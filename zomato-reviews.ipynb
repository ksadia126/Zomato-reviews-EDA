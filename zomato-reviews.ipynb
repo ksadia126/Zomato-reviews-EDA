{
 "cells": [
  {
   "cell_type": "markdown",
   "id": "10226d49",
   "metadata": {
    "papermill": {
     "duration": 0.009464,
     "end_time": "2025-10-08T18:53:24.728769",
     "exception": false,
     "start_time": "2025-10-08T18:53:24.719305",
     "status": "completed"
    },
    "tags": []
   },
   "source": [
    "# Importing Libraries\n"
   ]
  },
  {
   "cell_type": "code",
   "execution_count": 1,
   "id": "9ef09941",
   "metadata": {
    "_cell_guid": "b1076dfc-b9ad-4769-8c92-a6c4dae69d19",
    "_uuid": "8f2839f25d086af736a60e9eeb907d3b93b6e0e5",
    "execution": {
     "iopub.execute_input": "2025-10-08T18:53:24.747207Z",
     "iopub.status.busy": "2025-10-08T18:53:24.746708Z",
     "iopub.status.idle": "2025-10-08T18:53:26.976980Z",
     "shell.execute_reply": "2025-10-08T18:53:26.975878Z"
    },
    "papermill": {
     "duration": 2.241674,
     "end_time": "2025-10-08T18:53:26.979129",
     "exception": false,
     "start_time": "2025-10-08T18:53:24.737455",
     "status": "completed"
    },
    "tags": []
   },
   "outputs": [
    {
     "name": "stdout",
     "output_type": "stream",
     "text": [
      "/kaggle/input/tomato-reviews/zomato.csv\n"
     ]
    }
   ],
   "source": [
    "# This Python 3 environment comes with many helpful analytics libraries installed\n",
    "# It is defined by the kaggle/python Docker image: https://github.com/kaggle/docker-python\n",
    "# For example, here's several helpful packages to load\n",
    "\n",
    "import numpy as np # linear algebra\n",
    "import pandas as pd # data processing, CSV file I/O (e.g. pd.read_csv)\n",
    "\n",
    "# Input data files are available in the read-only \"../input/\" directory\n",
    "# For example, running this (by clicking run or pressing Shift+Enter) will list all files under the input directory\n",
    "\n",
    "import os\n",
    "for dirname, _, filenames in os.walk('/kaggle/input'):\n",
    "    for filename in filenames:\n",
    "        print(os.path.join(dirname, filename))\n",
    "\n",
    "# You can write up to 20GB to the current directory (/kaggle/working/) that gets preserved as output when you create a version using \"Save & Run All\" \n",
    "# You can also write temporary files to /kaggle/temp/, but they won't be saved outside of the current session"
   ]
  },
  {
   "cell_type": "markdown",
   "id": "b2ef03f2",
   "metadata": {
    "papermill": {
     "duration": 0.009071,
     "end_time": "2025-10-08T18:53:26.998132",
     "exception": false,
     "start_time": "2025-10-08T18:53:26.989061",
     "status": "completed"
    },
    "tags": []
   },
   "source": [
    "# Reading Dataset"
   ]
  },
  {
   "cell_type": "code",
   "execution_count": 2,
   "id": "0c9847e3",
   "metadata": {
    "execution": {
     "iopub.execute_input": "2025-10-08T18:53:27.019267Z",
     "iopub.status.busy": "2025-10-08T18:53:27.018499Z",
     "iopub.status.idle": "2025-10-08T18:53:40.019506Z",
     "shell.execute_reply": "2025-10-08T18:53:40.018366Z"
    },
    "papermill": {
     "duration": 13.013606,
     "end_time": "2025-10-08T18:53:40.021302",
     "exception": false,
     "start_time": "2025-10-08T18:53:27.007696",
     "status": "completed"
    },
    "tags": []
   },
   "outputs": [],
   "source": [
    "zmt = pd.read_csv('/kaggle/input/tomato-reviews/zomato.csv')"
   ]
  },
  {
   "cell_type": "code",
   "execution_count": 3,
   "id": "a6f3b86e",
   "metadata": {
    "execution": {
     "iopub.execute_input": "2025-10-08T18:53:40.039910Z",
     "iopub.status.busy": "2025-10-08T18:53:40.039512Z",
     "iopub.status.idle": "2025-10-08T18:53:40.070594Z",
     "shell.execute_reply": "2025-10-08T18:53:40.069815Z"
    },
    "papermill": {
     "duration": 0.042341,
     "end_time": "2025-10-08T18:53:40.072445",
     "exception": false,
     "start_time": "2025-10-08T18:53:40.030104",
     "status": "completed"
    },
    "tags": []
   },
   "outputs": [
    {
     "data": {
      "text/html": [
       "<div>\n",
       "<style scoped>\n",
       "    .dataframe tbody tr th:only-of-type {\n",
       "        vertical-align: middle;\n",
       "    }\n",
       "\n",
       "    .dataframe tbody tr th {\n",
       "        vertical-align: top;\n",
       "    }\n",
       "\n",
       "    .dataframe thead th {\n",
       "        text-align: right;\n",
       "    }\n",
       "</style>\n",
       "<table border=\"1\" class=\"dataframe\">\n",
       "  <thead>\n",
       "    <tr style=\"text-align: right;\">\n",
       "      <th></th>\n",
       "      <th>url</th>\n",
       "      <th>address</th>\n",
       "      <th>name</th>\n",
       "      <th>online_order</th>\n",
       "      <th>book_table</th>\n",
       "      <th>rate</th>\n",
       "      <th>votes</th>\n",
       "      <th>phone</th>\n",
       "      <th>location</th>\n",
       "      <th>rest_type</th>\n",
       "      <th>dish_liked</th>\n",
       "      <th>cuisines</th>\n",
       "      <th>approx_cost(for two people)</th>\n",
       "      <th>reviews_list</th>\n",
       "      <th>menu_item</th>\n",
       "      <th>listed_in(type)</th>\n",
       "      <th>listed_in(city)</th>\n",
       "    </tr>\n",
       "  </thead>\n",
       "  <tbody>\n",
       "    <tr>\n",
       "      <th>0</th>\n",
       "      <td>https://www.zomato.com/bangalore/jalsa-banasha...</td>\n",
       "      <td>942, 21st Main Road, 2nd Stage, Banashankari, ...</td>\n",
       "      <td>Jalsa</td>\n",
       "      <td>Yes</td>\n",
       "      <td>Yes</td>\n",
       "      <td>4.1/5</td>\n",
       "      <td>775</td>\n",
       "      <td>080 42297555\\r\\n+91 9743772233</td>\n",
       "      <td>Banashankari</td>\n",
       "      <td>Casual Dining</td>\n",
       "      <td>Pasta, Lunch Buffet, Masala Papad, Paneer Laja...</td>\n",
       "      <td>North Indian, Mughlai, Chinese</td>\n",
       "      <td>800</td>\n",
       "      <td>[('Rated 4.0', 'RATED\\n  A beautiful place to ...</td>\n",
       "      <td>[]</td>\n",
       "      <td>Buffet</td>\n",
       "      <td>Banashankari</td>\n",
       "    </tr>\n",
       "    <tr>\n",
       "      <th>1</th>\n",
       "      <td>https://www.zomato.com/bangalore/spice-elephan...</td>\n",
       "      <td>2nd Floor, 80 Feet Road, Near Big Bazaar, 6th ...</td>\n",
       "      <td>Spice Elephant</td>\n",
       "      <td>Yes</td>\n",
       "      <td>No</td>\n",
       "      <td>4.1/5</td>\n",
       "      <td>787</td>\n",
       "      <td>080 41714161</td>\n",
       "      <td>Banashankari</td>\n",
       "      <td>Casual Dining</td>\n",
       "      <td>Momos, Lunch Buffet, Chocolate Nirvana, Thai G...</td>\n",
       "      <td>Chinese, North Indian, Thai</td>\n",
       "      <td>800</td>\n",
       "      <td>[('Rated 4.0', 'RATED\\n  Had been here for din...</td>\n",
       "      <td>[]</td>\n",
       "      <td>Buffet</td>\n",
       "      <td>Banashankari</td>\n",
       "    </tr>\n",
       "    <tr>\n",
       "      <th>2</th>\n",
       "      <td>https://www.zomato.com/SanchurroBangalore?cont...</td>\n",
       "      <td>1112, Next to KIMS Medical College, 17th Cross...</td>\n",
       "      <td>San Churro Cafe</td>\n",
       "      <td>Yes</td>\n",
       "      <td>No</td>\n",
       "      <td>3.8/5</td>\n",
       "      <td>918</td>\n",
       "      <td>+91 9663487993</td>\n",
       "      <td>Banashankari</td>\n",
       "      <td>Cafe, Casual Dining</td>\n",
       "      <td>Churros, Cannelloni, Minestrone Soup, Hot Choc...</td>\n",
       "      <td>Cafe, Mexican, Italian</td>\n",
       "      <td>800</td>\n",
       "      <td>[('Rated 3.0', \"RATED\\n  Ambience is not that ...</td>\n",
       "      <td>[]</td>\n",
       "      <td>Buffet</td>\n",
       "      <td>Banashankari</td>\n",
       "    </tr>\n",
       "    <tr>\n",
       "      <th>3</th>\n",
       "      <td>https://www.zomato.com/bangalore/addhuri-udupi...</td>\n",
       "      <td>1st Floor, Annakuteera, 3rd Stage, Banashankar...</td>\n",
       "      <td>Addhuri Udupi Bhojana</td>\n",
       "      <td>No</td>\n",
       "      <td>No</td>\n",
       "      <td>3.7/5</td>\n",
       "      <td>88</td>\n",
       "      <td>+91 9620009302</td>\n",
       "      <td>Banashankari</td>\n",
       "      <td>Quick Bites</td>\n",
       "      <td>Masala Dosa</td>\n",
       "      <td>South Indian, North Indian</td>\n",
       "      <td>300</td>\n",
       "      <td>[('Rated 4.0', \"RATED\\n  Great food and proper...</td>\n",
       "      <td>[]</td>\n",
       "      <td>Buffet</td>\n",
       "      <td>Banashankari</td>\n",
       "    </tr>\n",
       "    <tr>\n",
       "      <th>4</th>\n",
       "      <td>https://www.zomato.com/bangalore/grand-village...</td>\n",
       "      <td>10, 3rd Floor, Lakshmi Associates, Gandhi Baza...</td>\n",
       "      <td>Grand Village</td>\n",
       "      <td>No</td>\n",
       "      <td>No</td>\n",
       "      <td>3.8/5</td>\n",
       "      <td>166</td>\n",
       "      <td>+91 8026612447\\r\\n+91 9901210005</td>\n",
       "      <td>Basavanagudi</td>\n",
       "      <td>Casual Dining</td>\n",
       "      <td>Panipuri, Gol Gappe</td>\n",
       "      <td>North Indian, Rajasthani</td>\n",
       "      <td>600</td>\n",
       "      <td>[('Rated 4.0', 'RATED\\n  Very good restaurant ...</td>\n",
       "      <td>[]</td>\n",
       "      <td>Buffet</td>\n",
       "      <td>Banashankari</td>\n",
       "    </tr>\n",
       "  </tbody>\n",
       "</table>\n",
       "</div>"
      ],
      "text/plain": [
       "                                                 url  \\\n",
       "0  https://www.zomato.com/bangalore/jalsa-banasha...   \n",
       "1  https://www.zomato.com/bangalore/spice-elephan...   \n",
       "2  https://www.zomato.com/SanchurroBangalore?cont...   \n",
       "3  https://www.zomato.com/bangalore/addhuri-udupi...   \n",
       "4  https://www.zomato.com/bangalore/grand-village...   \n",
       "\n",
       "                                             address                   name  \\\n",
       "0  942, 21st Main Road, 2nd Stage, Banashankari, ...                  Jalsa   \n",
       "1  2nd Floor, 80 Feet Road, Near Big Bazaar, 6th ...         Spice Elephant   \n",
       "2  1112, Next to KIMS Medical College, 17th Cross...        San Churro Cafe   \n",
       "3  1st Floor, Annakuteera, 3rd Stage, Banashankar...  Addhuri Udupi Bhojana   \n",
       "4  10, 3rd Floor, Lakshmi Associates, Gandhi Baza...          Grand Village   \n",
       "\n",
       "  online_order book_table   rate  votes                             phone  \\\n",
       "0          Yes        Yes  4.1/5    775    080 42297555\\r\\n+91 9743772233   \n",
       "1          Yes         No  4.1/5    787                      080 41714161   \n",
       "2          Yes         No  3.8/5    918                    +91 9663487993   \n",
       "3           No         No  3.7/5     88                    +91 9620009302   \n",
       "4           No         No  3.8/5    166  +91 8026612447\\r\\n+91 9901210005   \n",
       "\n",
       "       location            rest_type  \\\n",
       "0  Banashankari        Casual Dining   \n",
       "1  Banashankari        Casual Dining   \n",
       "2  Banashankari  Cafe, Casual Dining   \n",
       "3  Banashankari          Quick Bites   \n",
       "4  Basavanagudi        Casual Dining   \n",
       "\n",
       "                                          dish_liked  \\\n",
       "0  Pasta, Lunch Buffet, Masala Papad, Paneer Laja...   \n",
       "1  Momos, Lunch Buffet, Chocolate Nirvana, Thai G...   \n",
       "2  Churros, Cannelloni, Minestrone Soup, Hot Choc...   \n",
       "3                                        Masala Dosa   \n",
       "4                                Panipuri, Gol Gappe   \n",
       "\n",
       "                         cuisines approx_cost(for two people)  \\\n",
       "0  North Indian, Mughlai, Chinese                         800   \n",
       "1     Chinese, North Indian, Thai                         800   \n",
       "2          Cafe, Mexican, Italian                         800   \n",
       "3      South Indian, North Indian                         300   \n",
       "4        North Indian, Rajasthani                         600   \n",
       "\n",
       "                                        reviews_list menu_item  \\\n",
       "0  [('Rated 4.0', 'RATED\\n  A beautiful place to ...        []   \n",
       "1  [('Rated 4.0', 'RATED\\n  Had been here for din...        []   \n",
       "2  [('Rated 3.0', \"RATED\\n  Ambience is not that ...        []   \n",
       "3  [('Rated 4.0', \"RATED\\n  Great food and proper...        []   \n",
       "4  [('Rated 4.0', 'RATED\\n  Very good restaurant ...        []   \n",
       "\n",
       "  listed_in(type) listed_in(city)  \n",
       "0          Buffet    Banashankari  \n",
       "1          Buffet    Banashankari  \n",
       "2          Buffet    Banashankari  \n",
       "3          Buffet    Banashankari  \n",
       "4          Buffet    Banashankari  "
      ]
     },
     "execution_count": 3,
     "metadata": {},
     "output_type": "execute_result"
    }
   ],
   "source": [
    "zmt.head()"
   ]
  },
  {
   "cell_type": "code",
   "execution_count": 4,
   "id": "8ee4fe51",
   "metadata": {
    "execution": {
     "iopub.execute_input": "2025-10-08T18:53:40.091275Z",
     "iopub.status.busy": "2025-10-08T18:53:40.090964Z",
     "iopub.status.idle": "2025-10-08T18:53:40.174304Z",
     "shell.execute_reply": "2025-10-08T18:53:40.173048Z"
    },
    "papermill": {
     "duration": 0.094785,
     "end_time": "2025-10-08T18:53:40.176044",
     "exception": false,
     "start_time": "2025-10-08T18:53:40.081259",
     "status": "completed"
    },
    "tags": []
   },
   "outputs": [
    {
     "name": "stdout",
     "output_type": "stream",
     "text": [
      "<class 'pandas.core.frame.DataFrame'>\n",
      "RangeIndex: 51717 entries, 0 to 51716\n",
      "Data columns (total 17 columns):\n",
      " #   Column                       Non-Null Count  Dtype \n",
      "---  ------                       --------------  ----- \n",
      " 0   url                          51717 non-null  object\n",
      " 1   address                      51717 non-null  object\n",
      " 2   name                         51717 non-null  object\n",
      " 3   online_order                 51717 non-null  object\n",
      " 4   book_table                   51717 non-null  object\n",
      " 5   rate                         43942 non-null  object\n",
      " 6   votes                        51717 non-null  int64 \n",
      " 7   phone                        50509 non-null  object\n",
      " 8   location                     51696 non-null  object\n",
      " 9   rest_type                    51490 non-null  object\n",
      " 10  dish_liked                   23639 non-null  object\n",
      " 11  cuisines                     51672 non-null  object\n",
      " 12  approx_cost(for two people)  51371 non-null  object\n",
      " 13  reviews_list                 51717 non-null  object\n",
      " 14  menu_item                    51717 non-null  object\n",
      " 15  listed_in(type)              51717 non-null  object\n",
      " 16  listed_in(city)              51717 non-null  object\n",
      "dtypes: int64(1), object(16)\n",
      "memory usage: 6.7+ MB\n"
     ]
    }
   ],
   "source": [
    "zmt.info()"
   ]
  },
  {
   "cell_type": "markdown",
   "id": "3159f8d7",
   "metadata": {
    "papermill": {
     "duration": 0.008639,
     "end_time": "2025-10-08T18:53:40.194201",
     "exception": false,
     "start_time": "2025-10-08T18:53:40.185562",
     "status": "completed"
    },
    "tags": []
   },
   "source": [
    "# Droping unnecessary column"
   ]
  },
  {
   "cell_type": "code",
   "execution_count": 5,
   "id": "7b2c7746",
   "metadata": {
    "execution": {
     "iopub.execute_input": "2025-10-08T18:53:40.213348Z",
     "iopub.status.busy": "2025-10-08T18:53:40.213042Z",
     "iopub.status.idle": "2025-10-08T18:53:40.229305Z",
     "shell.execute_reply": "2025-10-08T18:53:40.228194Z"
    },
    "papermill": {
     "duration": 0.028325,
     "end_time": "2025-10-08T18:53:40.231298",
     "exception": false,
     "start_time": "2025-10-08T18:53:40.202973",
     "status": "completed"
    },
    "tags": []
   },
   "outputs": [],
   "source": [
    "zmt.drop(['url', 'reviews_list', 'menu_item', 'address', 'phone', 'dish_liked'], axis=1, inplace=True)"
   ]
  },
  {
   "cell_type": "code",
   "execution_count": 6,
   "id": "9678585d",
   "metadata": {
    "execution": {
     "iopub.execute_input": "2025-10-08T18:53:40.250922Z",
     "iopub.status.busy": "2025-10-08T18:53:40.250541Z",
     "iopub.status.idle": "2025-10-08T18:53:40.262625Z",
     "shell.execute_reply": "2025-10-08T18:53:40.261747Z"
    },
    "papermill": {
     "duration": 0.024023,
     "end_time": "2025-10-08T18:53:40.264430",
     "exception": false,
     "start_time": "2025-10-08T18:53:40.240407",
     "status": "completed"
    },
    "tags": []
   },
   "outputs": [
    {
     "data": {
      "text/html": [
       "<div>\n",
       "<style scoped>\n",
       "    .dataframe tbody tr th:only-of-type {\n",
       "        vertical-align: middle;\n",
       "    }\n",
       "\n",
       "    .dataframe tbody tr th {\n",
       "        vertical-align: top;\n",
       "    }\n",
       "\n",
       "    .dataframe thead th {\n",
       "        text-align: right;\n",
       "    }\n",
       "</style>\n",
       "<table border=\"1\" class=\"dataframe\">\n",
       "  <thead>\n",
       "    <tr style=\"text-align: right;\">\n",
       "      <th></th>\n",
       "      <th>name</th>\n",
       "      <th>online_order</th>\n",
       "      <th>book_table</th>\n",
       "      <th>rate</th>\n",
       "      <th>votes</th>\n",
       "      <th>location</th>\n",
       "      <th>rest_type</th>\n",
       "      <th>cuisines</th>\n",
       "      <th>approx_cost(for two people)</th>\n",
       "      <th>listed_in(type)</th>\n",
       "      <th>listed_in(city)</th>\n",
       "    </tr>\n",
       "  </thead>\n",
       "  <tbody>\n",
       "    <tr>\n",
       "      <th>0</th>\n",
       "      <td>Jalsa</td>\n",
       "      <td>Yes</td>\n",
       "      <td>Yes</td>\n",
       "      <td>4.1/5</td>\n",
       "      <td>775</td>\n",
       "      <td>Banashankari</td>\n",
       "      <td>Casual Dining</td>\n",
       "      <td>North Indian, Mughlai, Chinese</td>\n",
       "      <td>800</td>\n",
       "      <td>Buffet</td>\n",
       "      <td>Banashankari</td>\n",
       "    </tr>\n",
       "    <tr>\n",
       "      <th>1</th>\n",
       "      <td>Spice Elephant</td>\n",
       "      <td>Yes</td>\n",
       "      <td>No</td>\n",
       "      <td>4.1/5</td>\n",
       "      <td>787</td>\n",
       "      <td>Banashankari</td>\n",
       "      <td>Casual Dining</td>\n",
       "      <td>Chinese, North Indian, Thai</td>\n",
       "      <td>800</td>\n",
       "      <td>Buffet</td>\n",
       "      <td>Banashankari</td>\n",
       "    </tr>\n",
       "  </tbody>\n",
       "</table>\n",
       "</div>"
      ],
      "text/plain": [
       "             name online_order book_table   rate  votes      location  \\\n",
       "0           Jalsa          Yes        Yes  4.1/5    775  Banashankari   \n",
       "1  Spice Elephant          Yes         No  4.1/5    787  Banashankari   \n",
       "\n",
       "       rest_type                        cuisines approx_cost(for two people)  \\\n",
       "0  Casual Dining  North Indian, Mughlai, Chinese                         800   \n",
       "1  Casual Dining     Chinese, North Indian, Thai                         800   \n",
       "\n",
       "  listed_in(type) listed_in(city)  \n",
       "0          Buffet    Banashankari  \n",
       "1          Buffet    Banashankari  "
      ]
     },
     "execution_count": 6,
     "metadata": {},
     "output_type": "execute_result"
    }
   ],
   "source": [
    "zmt.head(2)"
   ]
  },
  {
   "cell_type": "code",
   "execution_count": 7,
   "id": "52358b5f",
   "metadata": {
    "execution": {
     "iopub.execute_input": "2025-10-08T18:53:40.284748Z",
     "iopub.status.busy": "2025-10-08T18:53:40.284390Z",
     "iopub.status.idle": "2025-10-08T18:53:40.343548Z",
     "shell.execute_reply": "2025-10-08T18:53:40.342405Z"
    },
    "papermill": {
     "duration": 0.071407,
     "end_time": "2025-10-08T18:53:40.345225",
     "exception": false,
     "start_time": "2025-10-08T18:53:40.273818",
     "status": "completed"
    },
    "tags": []
   },
   "outputs": [
    {
     "name": "stdout",
     "output_type": "stream",
     "text": [
      "False    51609\n",
      "True       108\n",
      "Name: count, dtype: int64\n"
     ]
    }
   ],
   "source": [
    "print(zmt.duplicated().value_counts())"
   ]
  },
  {
   "cell_type": "markdown",
   "id": "572b5e19",
   "metadata": {
    "papermill": {
     "duration": 0.008838,
     "end_time": "2025-10-08T18:53:40.363161",
     "exception": false,
     "start_time": "2025-10-08T18:53:40.354323",
     "status": "completed"
    },
    "tags": []
   },
   "source": [
    "# Renaming Columns"
   ]
  },
  {
   "cell_type": "code",
   "execution_count": 8,
   "id": "aa87407f",
   "metadata": {
    "execution": {
     "iopub.execute_input": "2025-10-08T18:53:40.382593Z",
     "iopub.status.busy": "2025-10-08T18:53:40.382300Z",
     "iopub.status.idle": "2025-10-08T18:53:40.387834Z",
     "shell.execute_reply": "2025-10-08T18:53:40.386848Z"
    },
    "papermill": {
     "duration": 0.0171,
     "end_time": "2025-10-08T18:53:40.389453",
     "exception": false,
     "start_time": "2025-10-08T18:53:40.372353",
     "status": "completed"
    },
    "tags": []
   },
   "outputs": [],
   "source": [
    "zmt.rename(columns={'name':'restaurants', 'rate': 'rating', 'cuisines':'food_type','listed_in(type)':'type', 'listed_in(city)':'city', 'approx_cost(for two people)':'cost'}, inplace=True)"
   ]
  },
  {
   "cell_type": "code",
   "execution_count": 9,
   "id": "e66552ff",
   "metadata": {
    "execution": {
     "iopub.execute_input": "2025-10-08T18:53:40.408504Z",
     "iopub.status.busy": "2025-10-08T18:53:40.408226Z",
     "iopub.status.idle": "2025-10-08T18:53:40.421190Z",
     "shell.execute_reply": "2025-10-08T18:53:40.420093Z"
    },
    "papermill": {
     "duration": 0.024747,
     "end_time": "2025-10-08T18:53:40.423182",
     "exception": false,
     "start_time": "2025-10-08T18:53:40.398435",
     "status": "completed"
    },
    "tags": []
   },
   "outputs": [
    {
     "data": {
      "text/html": [
       "<div>\n",
       "<style scoped>\n",
       "    .dataframe tbody tr th:only-of-type {\n",
       "        vertical-align: middle;\n",
       "    }\n",
       "\n",
       "    .dataframe tbody tr th {\n",
       "        vertical-align: top;\n",
       "    }\n",
       "\n",
       "    .dataframe thead th {\n",
       "        text-align: right;\n",
       "    }\n",
       "</style>\n",
       "<table border=\"1\" class=\"dataframe\">\n",
       "  <thead>\n",
       "    <tr style=\"text-align: right;\">\n",
       "      <th></th>\n",
       "      <th>restaurants</th>\n",
       "      <th>online_order</th>\n",
       "      <th>book_table</th>\n",
       "      <th>rating</th>\n",
       "      <th>votes</th>\n",
       "      <th>location</th>\n",
       "      <th>rest_type</th>\n",
       "      <th>food_type</th>\n",
       "      <th>cost</th>\n",
       "      <th>type</th>\n",
       "      <th>city</th>\n",
       "    </tr>\n",
       "  </thead>\n",
       "  <tbody>\n",
       "    <tr>\n",
       "      <th>0</th>\n",
       "      <td>Jalsa</td>\n",
       "      <td>Yes</td>\n",
       "      <td>Yes</td>\n",
       "      <td>4.1/5</td>\n",
       "      <td>775</td>\n",
       "      <td>Banashankari</td>\n",
       "      <td>Casual Dining</td>\n",
       "      <td>North Indian, Mughlai, Chinese</td>\n",
       "      <td>800</td>\n",
       "      <td>Buffet</td>\n",
       "      <td>Banashankari</td>\n",
       "    </tr>\n",
       "    <tr>\n",
       "      <th>1</th>\n",
       "      <td>Spice Elephant</td>\n",
       "      <td>Yes</td>\n",
       "      <td>No</td>\n",
       "      <td>4.1/5</td>\n",
       "      <td>787</td>\n",
       "      <td>Banashankari</td>\n",
       "      <td>Casual Dining</td>\n",
       "      <td>Chinese, North Indian, Thai</td>\n",
       "      <td>800</td>\n",
       "      <td>Buffet</td>\n",
       "      <td>Banashankari</td>\n",
       "    </tr>\n",
       "  </tbody>\n",
       "</table>\n",
       "</div>"
      ],
      "text/plain": [
       "      restaurants online_order book_table rating  votes      location  \\\n",
       "0           Jalsa          Yes        Yes  4.1/5    775  Banashankari   \n",
       "1  Spice Elephant          Yes         No  4.1/5    787  Banashankari   \n",
       "\n",
       "       rest_type                       food_type cost    type          city  \n",
       "0  Casual Dining  North Indian, Mughlai, Chinese  800  Buffet  Banashankari  \n",
       "1  Casual Dining     Chinese, North Indian, Thai  800  Buffet  Banashankari  "
      ]
     },
     "execution_count": 9,
     "metadata": {},
     "output_type": "execute_result"
    }
   ],
   "source": [
    "zmt.head(2)"
   ]
  },
  {
   "cell_type": "markdown",
   "id": "d098cec4",
   "metadata": {
    "papermill": {
     "duration": 0.008672,
     "end_time": "2025-10-08T18:53:40.441034",
     "exception": false,
     "start_time": "2025-10-08T18:53:40.432362",
     "status": "completed"
    },
    "tags": []
   },
   "source": [
    "# Dropping NaN values"
   ]
  },
  {
   "cell_type": "code",
   "execution_count": 10,
   "id": "07da2dd3",
   "metadata": {
    "execution": {
     "iopub.execute_input": "2025-10-08T18:53:40.461181Z",
     "iopub.status.busy": "2025-10-08T18:53:40.460847Z",
     "iopub.status.idle": "2025-10-08T18:53:40.497647Z",
     "shell.execute_reply": "2025-10-08T18:53:40.496437Z"
    },
    "papermill": {
     "duration": 0.049064,
     "end_time": "2025-10-08T18:53:40.499535",
     "exception": false,
     "start_time": "2025-10-08T18:53:40.450471",
     "status": "completed"
    },
    "tags": []
   },
   "outputs": [
    {
     "data": {
      "text/plain": [
       "restaurants        0\n",
       "online_order       0\n",
       "book_table         0\n",
       "rating          7775\n",
       "votes              0\n",
       "location          21\n",
       "rest_type        227\n",
       "food_type         45\n",
       "cost             346\n",
       "type               0\n",
       "city               0\n",
       "dtype: int64"
      ]
     },
     "execution_count": 10,
     "metadata": {},
     "output_type": "execute_result"
    }
   ],
   "source": [
    "zmt.isnull().sum()"
   ]
  },
  {
   "cell_type": "code",
   "execution_count": 11,
   "id": "04a8325e",
   "metadata": {
    "execution": {
     "iopub.execute_input": "2025-10-08T18:53:40.591643Z",
     "iopub.status.busy": "2025-10-08T18:53:40.591318Z",
     "iopub.status.idle": "2025-10-08T18:53:40.627644Z",
     "shell.execute_reply": "2025-10-08T18:53:40.626654Z"
    },
    "papermill": {
     "duration": 0.048542,
     "end_time": "2025-10-08T18:53:40.629536",
     "exception": false,
     "start_time": "2025-10-08T18:53:40.580994",
     "status": "completed"
    },
    "tags": []
   },
   "outputs": [],
   "source": [
    "zmt.dropna(inplace=True)"
   ]
  },
  {
   "cell_type": "markdown",
   "id": "ab5edf73",
   "metadata": {
    "papermill": {
     "duration": 0.009044,
     "end_time": "2025-10-08T18:53:40.648405",
     "exception": false,
     "start_time": "2025-10-08T18:53:40.639361",
     "status": "completed"
    },
    "tags": []
   },
   "source": [
    "# Cleaning Individual Columns"
   ]
  },
  {
   "cell_type": "markdown",
   "id": "7f2ddc65",
   "metadata": {
    "papermill": {
     "duration": 0.009144,
     "end_time": "2025-10-08T18:53:40.666968",
     "exception": false,
     "start_time": "2025-10-08T18:53:40.657824",
     "status": "completed"
    },
    "tags": []
   },
   "source": [
    "**Columns : Restaurant**"
   ]
  },
  {
   "cell_type": "code",
   "execution_count": 12,
   "id": "cba0a22f",
   "metadata": {
    "execution": {
     "iopub.execute_input": "2025-10-08T18:53:40.688190Z",
     "iopub.status.busy": "2025-10-08T18:53:40.687883Z",
     "iopub.status.idle": "2025-10-08T18:53:40.731633Z",
     "shell.execute_reply": "2025-10-08T18:53:40.730670Z"
    },
    "papermill": {
     "duration": 0.057134,
     "end_time": "2025-10-08T18:53:40.733349",
     "exception": false,
     "start_time": "2025-10-08T18:53:40.676215",
     "status": "completed"
    },
    "tags": []
   },
   "outputs": [
    {
     "data": {
      "text/html": [
       "<div>\n",
       "<style scoped>\n",
       "    .dataframe tbody tr th:only-of-type {\n",
       "        vertical-align: middle;\n",
       "    }\n",
       "\n",
       "    .dataframe tbody tr th {\n",
       "        vertical-align: top;\n",
       "    }\n",
       "\n",
       "    .dataframe thead th {\n",
       "        text-align: right;\n",
       "    }\n",
       "</style>\n",
       "<table border=\"1\" class=\"dataframe\">\n",
       "  <thead>\n",
       "    <tr style=\"text-align: right;\">\n",
       "      <th></th>\n",
       "      <th>online_order</th>\n",
       "      <th>book_table</th>\n",
       "      <th>rating</th>\n",
       "      <th>votes</th>\n",
       "      <th>location</th>\n",
       "      <th>rest_type</th>\n",
       "      <th>food_type</th>\n",
       "      <th>cost</th>\n",
       "      <th>type</th>\n",
       "      <th>city</th>\n",
       "    </tr>\n",
       "    <tr>\n",
       "      <th>restaurants</th>\n",
       "      <th></th>\n",
       "      <th></th>\n",
       "      <th></th>\n",
       "      <th></th>\n",
       "      <th></th>\n",
       "      <th></th>\n",
       "      <th></th>\n",
       "      <th></th>\n",
       "      <th></th>\n",
       "      <th></th>\n",
       "    </tr>\n",
       "  </thead>\n",
       "  <tbody>\n",
       "    <tr>\n",
       "      <th>#FeelTheROLL</th>\n",
       "      <td>2</td>\n",
       "      <td>2</td>\n",
       "      <td>2</td>\n",
       "      <td>2</td>\n",
       "      <td>2</td>\n",
       "      <td>2</td>\n",
       "      <td>2</td>\n",
       "      <td>2</td>\n",
       "      <td>2</td>\n",
       "      <td>2</td>\n",
       "    </tr>\n",
       "    <tr>\n",
       "      <th>#L-81 Cafe</th>\n",
       "      <td>9</td>\n",
       "      <td>9</td>\n",
       "      <td>9</td>\n",
       "      <td>9</td>\n",
       "      <td>9</td>\n",
       "      <td>9</td>\n",
       "      <td>9</td>\n",
       "      <td>9</td>\n",
       "      <td>9</td>\n",
       "      <td>9</td>\n",
       "    </tr>\n",
       "    <tr>\n",
       "      <th>#refuel</th>\n",
       "      <td>3</td>\n",
       "      <td>3</td>\n",
       "      <td>3</td>\n",
       "      <td>3</td>\n",
       "      <td>3</td>\n",
       "      <td>3</td>\n",
       "      <td>3</td>\n",
       "      <td>3</td>\n",
       "      <td>3</td>\n",
       "      <td>3</td>\n",
       "    </tr>\n",
       "    <tr>\n",
       "      <th>1000 B.C</th>\n",
       "      <td>6</td>\n",
       "      <td>6</td>\n",
       "      <td>6</td>\n",
       "      <td>6</td>\n",
       "      <td>6</td>\n",
       "      <td>6</td>\n",
       "      <td>6</td>\n",
       "      <td>6</td>\n",
       "      <td>6</td>\n",
       "      <td>6</td>\n",
       "    </tr>\n",
       "    <tr>\n",
       "      <th>100ÃÂÃÂÃÂÃÂÃÂÃÂÃÂÃÂ°C</th>\n",
       "      <td>3</td>\n",
       "      <td>3</td>\n",
       "      <td>3</td>\n",
       "      <td>3</td>\n",
       "      <td>3</td>\n",
       "      <td>3</td>\n",
       "      <td>3</td>\n",
       "      <td>3</td>\n",
       "      <td>3</td>\n",
       "      <td>3</td>\n",
       "    </tr>\n",
       "  </tbody>\n",
       "</table>\n",
       "</div>"
      ],
      "text/plain": [
       "                                      online_order  book_table  rating  votes  \\\n",
       "restaurants                                                                     \n",
       "#FeelTheROLL                                     2           2       2      2   \n",
       "#L-81 Cafe                                       9           9       9      9   \n",
       "#refuel                                          3           3       3      3   \n",
       "1000 B.C                                         6           6       6      6   \n",
       "100ÃÂÃÂÃÂÃÂÃÂÃÂÃÂÃÂ°C             3           3       3      3   \n",
       "\n",
       "                                      location  rest_type  food_type  cost  \\\n",
       "restaurants                                                                  \n",
       "#FeelTheROLL                                 2          2          2     2   \n",
       "#L-81 Cafe                                   9          9          9     9   \n",
       "#refuel                                      3          3          3     3   \n",
       "1000 B.C                                     6          6          6     6   \n",
       "100ÃÂÃÂÃÂÃÂÃÂÃÂÃÂÃÂ°C         3          3          3     3   \n",
       "\n",
       "                                      type  city  \n",
       "restaurants                                       \n",
       "#FeelTheROLL                             2     2  \n",
       "#L-81 Cafe                               9     9  \n",
       "#refuel                                  3     3  \n",
       "1000 B.C                                 6     6  \n",
       "100ÃÂÃÂÃÂÃÂÃÂÃÂÃÂÃÂ°C     3     3  "
      ]
     },
     "execution_count": 12,
     "metadata": {},
     "output_type": "execute_result"
    }
   ],
   "source": [
    "zmt.groupby('restaurants').count().head()"
   ]
  },
  {
   "cell_type": "code",
   "execution_count": 13,
   "id": "b588f363",
   "metadata": {
    "execution": {
     "iopub.execute_input": "2025-10-08T18:53:40.754248Z",
     "iopub.status.busy": "2025-10-08T18:53:40.753922Z",
     "iopub.status.idle": "2025-10-08T18:53:40.786426Z",
     "shell.execute_reply": "2025-10-08T18:53:40.785404Z"
    },
    "papermill": {
     "duration": 0.045096,
     "end_time": "2025-10-08T18:53:40.788257",
     "exception": false,
     "start_time": "2025-10-08T18:53:40.743161",
     "status": "completed"
    },
    "tags": []
   },
   "outputs": [],
   "source": [
    "zmt['restaurants']=zmt['restaurants'].str.replace('[Ãx][^A-Za-z]+', '', regex=True)"
   ]
  },
  {
   "cell_type": "code",
   "execution_count": 14,
   "id": "b5d584b9",
   "metadata": {
    "execution": {
     "iopub.execute_input": "2025-10-08T18:53:40.809141Z",
     "iopub.status.busy": "2025-10-08T18:53:40.808805Z",
     "iopub.status.idle": "2025-10-08T18:53:40.853509Z",
     "shell.execute_reply": "2025-10-08T18:53:40.852563Z"
    },
    "papermill": {
     "duration": 0.057331,
     "end_time": "2025-10-08T18:53:40.855380",
     "exception": false,
     "start_time": "2025-10-08T18:53:40.798049",
     "status": "completed"
    },
    "tags": []
   },
   "outputs": [
    {
     "data": {
      "text/html": [
       "<div>\n",
       "<style scoped>\n",
       "    .dataframe tbody tr th:only-of-type {\n",
       "        vertical-align: middle;\n",
       "    }\n",
       "\n",
       "    .dataframe tbody tr th {\n",
       "        vertical-align: top;\n",
       "    }\n",
       "\n",
       "    .dataframe thead th {\n",
       "        text-align: right;\n",
       "    }\n",
       "</style>\n",
       "<table border=\"1\" class=\"dataframe\">\n",
       "  <thead>\n",
       "    <tr style=\"text-align: right;\">\n",
       "      <th></th>\n",
       "      <th>online_order</th>\n",
       "      <th>book_table</th>\n",
       "      <th>rating</th>\n",
       "      <th>votes</th>\n",
       "      <th>location</th>\n",
       "      <th>rest_type</th>\n",
       "      <th>food_type</th>\n",
       "      <th>cost</th>\n",
       "      <th>type</th>\n",
       "      <th>city</th>\n",
       "    </tr>\n",
       "    <tr>\n",
       "      <th>restaurants</th>\n",
       "      <th></th>\n",
       "      <th></th>\n",
       "      <th></th>\n",
       "      <th></th>\n",
       "      <th></th>\n",
       "      <th></th>\n",
       "      <th></th>\n",
       "      <th></th>\n",
       "      <th></th>\n",
       "      <th></th>\n",
       "    </tr>\n",
       "  </thead>\n",
       "  <tbody>\n",
       "    <tr>\n",
       "      <th>#FeelTheROLL</th>\n",
       "      <td>2</td>\n",
       "      <td>2</td>\n",
       "      <td>2</td>\n",
       "      <td>2</td>\n",
       "      <td>2</td>\n",
       "      <td>2</td>\n",
       "      <td>2</td>\n",
       "      <td>2</td>\n",
       "      <td>2</td>\n",
       "      <td>2</td>\n",
       "    </tr>\n",
       "    <tr>\n",
       "      <th>#L-81 Cafe</th>\n",
       "      <td>9</td>\n",
       "      <td>9</td>\n",
       "      <td>9</td>\n",
       "      <td>9</td>\n",
       "      <td>9</td>\n",
       "      <td>9</td>\n",
       "      <td>9</td>\n",
       "      <td>9</td>\n",
       "      <td>9</td>\n",
       "      <td>9</td>\n",
       "    </tr>\n",
       "    <tr>\n",
       "      <th>#refuel</th>\n",
       "      <td>3</td>\n",
       "      <td>3</td>\n",
       "      <td>3</td>\n",
       "      <td>3</td>\n",
       "      <td>3</td>\n",
       "      <td>3</td>\n",
       "      <td>3</td>\n",
       "      <td>3</td>\n",
       "      <td>3</td>\n",
       "      <td>3</td>\n",
       "    </tr>\n",
       "    <tr>\n",
       "      <th>1000 B.C</th>\n",
       "      <td>6</td>\n",
       "      <td>6</td>\n",
       "      <td>6</td>\n",
       "      <td>6</td>\n",
       "      <td>6</td>\n",
       "      <td>6</td>\n",
       "      <td>6</td>\n",
       "      <td>6</td>\n",
       "      <td>6</td>\n",
       "      <td>6</td>\n",
       "    </tr>\n",
       "    <tr>\n",
       "      <th>100C</th>\n",
       "      <td>3</td>\n",
       "      <td>3</td>\n",
       "      <td>3</td>\n",
       "      <td>3</td>\n",
       "      <td>3</td>\n",
       "      <td>3</td>\n",
       "      <td>3</td>\n",
       "      <td>3</td>\n",
       "      <td>3</td>\n",
       "      <td>3</td>\n",
       "    </tr>\n",
       "  </tbody>\n",
       "</table>\n",
       "</div>"
      ],
      "text/plain": [
       "              online_order  book_table  rating  votes  location  rest_type  \\\n",
       "restaurants                                                                  \n",
       "#FeelTheROLL             2           2       2      2         2          2   \n",
       "#L-81 Cafe               9           9       9      9         9          9   \n",
       "#refuel                  3           3       3      3         3          3   \n",
       "1000 B.C                 6           6       6      6         6          6   \n",
       "100C                     3           3       3      3         3          3   \n",
       "\n",
       "              food_type  cost  type  city  \n",
       "restaurants                                \n",
       "#FeelTheROLL          2     2     2     2  \n",
       "#L-81 Cafe            9     9     9     9  \n",
       "#refuel               3     3     3     3  \n",
       "1000 B.C              6     6     6     6  \n",
       "100C                  3     3     3     3  "
      ]
     },
     "execution_count": 14,
     "metadata": {},
     "output_type": "execute_result"
    }
   ],
   "source": [
    "zmt.groupby('restaurants').count().head()"
   ]
  },
  {
   "cell_type": "code",
   "execution_count": 15,
   "id": "1d86e043",
   "metadata": {
    "execution": {
     "iopub.execute_input": "2025-10-08T18:53:40.879384Z",
     "iopub.status.busy": "2025-10-08T18:53:40.879052Z",
     "iopub.status.idle": "2025-10-08T18:53:40.906032Z",
     "shell.execute_reply": "2025-10-08T18:53:40.904973Z"
    },
    "papermill": {
     "duration": 0.041563,
     "end_time": "2025-10-08T18:53:40.907920",
     "exception": false,
     "start_time": "2025-10-08T18:53:40.866357",
     "status": "completed"
    },
    "tags": []
   },
   "outputs": [],
   "source": [
    "zmt['restaurants']=zmt['restaurants'].str.replace('Caf-|Caf', 'Cafe', regex=True)"
   ]
  },
  {
   "cell_type": "markdown",
   "id": "d72b31ed",
   "metadata": {
    "papermill": {
     "duration": 0.009432,
     "end_time": "2025-10-08T18:53:40.927326",
     "exception": false,
     "start_time": "2025-10-08T18:53:40.917894",
     "status": "completed"
    },
    "tags": []
   },
   "source": [
    "**Column : 'online_order'**"
   ]
  },
  {
   "cell_type": "code",
   "execution_count": 16,
   "id": "9e9cb14c",
   "metadata": {
    "execution": {
     "iopub.execute_input": "2025-10-08T18:53:40.949089Z",
     "iopub.status.busy": "2025-10-08T18:53:40.948698Z",
     "iopub.status.idle": "2025-10-08T18:53:40.956156Z",
     "shell.execute_reply": "2025-10-08T18:53:40.955329Z"
    },
    "papermill": {
     "duration": 0.020197,
     "end_time": "2025-10-08T18:53:40.957645",
     "exception": false,
     "start_time": "2025-10-08T18:53:40.937448",
     "status": "completed"
    },
    "tags": []
   },
   "outputs": [
    {
     "data": {
      "text/plain": [
       "array(['Yes', 'No'], dtype=object)"
      ]
     },
     "execution_count": 16,
     "metadata": {},
     "output_type": "execute_result"
    }
   ],
   "source": [
    "zmt['online_order'].unique()"
   ]
  },
  {
   "cell_type": "markdown",
   "id": "c294a487",
   "metadata": {
    "papermill": {
     "duration": 0.011359,
     "end_time": "2025-10-08T18:53:40.979320",
     "exception": false,
     "start_time": "2025-10-08T18:53:40.967961",
     "status": "completed"
    },
    "tags": []
   },
   "source": [
    "**Column :'book_table'**"
   ]
  },
  {
   "cell_type": "code",
   "execution_count": 17,
   "id": "045a8f3b",
   "metadata": {
    "execution": {
     "iopub.execute_input": "2025-10-08T18:53:41.001647Z",
     "iopub.status.busy": "2025-10-08T18:53:41.001376Z",
     "iopub.status.idle": "2025-10-08T18:53:41.010145Z",
     "shell.execute_reply": "2025-10-08T18:53:41.009166Z"
    },
    "papermill": {
     "duration": 0.02193,
     "end_time": "2025-10-08T18:53:41.012174",
     "exception": false,
     "start_time": "2025-10-08T18:53:40.990244",
     "status": "completed"
    },
    "tags": []
   },
   "outputs": [
    {
     "data": {
      "text/plain": [
       "array(['Yes', 'No'], dtype=object)"
      ]
     },
     "execution_count": 17,
     "metadata": {},
     "output_type": "execute_result"
    }
   ],
   "source": [
    "zmt['book_table'].unique()"
   ]
  },
  {
   "cell_type": "markdown",
   "id": "2ad818ba",
   "metadata": {
    "papermill": {
     "duration": 0.010928,
     "end_time": "2025-10-08T18:53:41.033541",
     "exception": false,
     "start_time": "2025-10-08T18:53:41.022613",
     "status": "completed"
    },
    "tags": []
   },
   "source": [
    "**Column : 'rating'**"
   ]
  },
  {
   "cell_type": "code",
   "execution_count": 18,
   "id": "001aea67",
   "metadata": {
    "execution": {
     "iopub.execute_input": "2025-10-08T18:53:41.061546Z",
     "iopub.status.busy": "2025-10-08T18:53:41.061227Z",
     "iopub.status.idle": "2025-10-08T18:53:41.071031Z",
     "shell.execute_reply": "2025-10-08T18:53:41.069923Z"
    },
    "papermill": {
     "duration": 0.025973,
     "end_time": "2025-10-08T18:53:41.073234",
     "exception": false,
     "start_time": "2025-10-08T18:53:41.047261",
     "status": "completed"
    },
    "tags": []
   },
   "outputs": [
    {
     "data": {
      "text/plain": [
       "array(['4.1/5', '3.8/5', '3.7/5', '3.6/5', '4.6/5', '4.0/5', '4.2/5',\n",
       "       '3.9/5', '3.1/5', '3.0/5', '3.2/5', '3.3/5', '2.8/5', '4.4/5',\n",
       "       '4.3/5', 'NEW', '2.9/5', '3.5/5', '2.6/5', '3.8 /5', '3.4/5',\n",
       "       '4.5/5', '2.5/5', '2.7/5', '4.7/5', '2.4/5', '2.2/5', '2.3/5',\n",
       "       '3.4 /5', '-', '3.6 /5', '4.8/5', '3.9 /5', '4.2 /5', '4.0 /5',\n",
       "       '4.1 /5', '3.7 /5', '3.1 /5', '2.9 /5', '3.3 /5', '2.8 /5',\n",
       "       '3.5 /5', '2.7 /5', '2.5 /5', '3.2 /5', '2.6 /5', '4.5 /5',\n",
       "       '4.3 /5', '4.4 /5', '4.9/5', '2.1/5', '2.0/5', '1.8/5', '4.6 /5',\n",
       "       '4.9 /5', '3.0 /5', '4.8 /5', '2.3 /5', '4.7 /5', '2.4 /5',\n",
       "       '2.1 /5', '2.2 /5', '2.0 /5', '1.8 /5'], dtype=object)"
      ]
     },
     "execution_count": 18,
     "metadata": {},
     "output_type": "execute_result"
    }
   ],
   "source": [
    "zmt['rating'].unique()"
   ]
  },
  {
   "cell_type": "code",
   "execution_count": 19,
   "id": "20d6bd46",
   "metadata": {
    "execution": {
     "iopub.execute_input": "2025-10-08T18:53:41.094875Z",
     "iopub.status.busy": "2025-10-08T18:53:41.094497Z",
     "iopub.status.idle": "2025-10-08T18:53:41.129868Z",
     "shell.execute_reply": "2025-10-08T18:53:41.128819Z"
    },
    "papermill": {
     "duration": 0.048291,
     "end_time": "2025-10-08T18:53:41.131675",
     "exception": false,
     "start_time": "2025-10-08T18:53:41.083384",
     "status": "completed"
    },
    "tags": []
   },
   "outputs": [],
   "source": [
    "replace= lambda x:x.replace('/5','')\n",
    "l=[]\n",
    "for val in map (replace, zmt['rating']):\n",
    "    if val!= 'NEW' and val!='-':\n",
    "        var=float(val)\n",
    "    l.append(var)\n",
    "zmt['rating']=l"
   ]
  },
  {
   "cell_type": "code",
   "execution_count": 20,
   "id": "ff036109",
   "metadata": {
    "execution": {
     "iopub.execute_input": "2025-10-08T18:53:41.153259Z",
     "iopub.status.busy": "2025-10-08T18:53:41.152892Z",
     "iopub.status.idle": "2025-10-08T18:53:41.161966Z",
     "shell.execute_reply": "2025-10-08T18:53:41.160798Z"
    },
    "papermill": {
     "duration": 0.021635,
     "end_time": "2025-10-08T18:53:41.163559",
     "exception": false,
     "start_time": "2025-10-08T18:53:41.141924",
     "status": "completed"
    },
    "tags": []
   },
   "outputs": [
    {
     "data": {
      "text/plain": [
       "array([4.1, 3.8, 3.7, 3.6, 4.6, 4. , 4.2, 3.9, 3.1, 3. , 3.2, 3.3, 2.8,\n",
       "       4.4, 4.3, 2.9, 3.5, 2.6, 3.4, 4.5, 2.5, 2.7, 4.7, 2.4, 2.2, 2.3,\n",
       "       4.8, 4.9, 2.1, 2. , 1.8])"
      ]
     },
     "execution_count": 20,
     "metadata": {},
     "output_type": "execute_result"
    }
   ],
   "source": [
    "zmt['rating'].unique()"
   ]
  },
  {
   "cell_type": "code",
   "execution_count": 21,
   "id": "7fd196a2",
   "metadata": {
    "execution": {
     "iopub.execute_input": "2025-10-08T18:53:41.187784Z",
     "iopub.status.busy": "2025-10-08T18:53:41.187164Z",
     "iopub.status.idle": "2025-10-08T18:53:41.193099Z",
     "shell.execute_reply": "2025-10-08T18:53:41.192267Z"
    },
    "papermill": {
     "duration": 0.01984,
     "end_time": "2025-10-08T18:53:41.194592",
     "exception": false,
     "start_time": "2025-10-08T18:53:41.174752",
     "status": "completed"
    },
    "tags": []
   },
   "outputs": [
    {
     "data": {
      "text/plain": [
       "dtype('float64')"
      ]
     },
     "execution_count": 21,
     "metadata": {},
     "output_type": "execute_result"
    }
   ],
   "source": [
    "zmt['rating'].dtype"
   ]
  },
  {
   "cell_type": "markdown",
   "id": "a199804f",
   "metadata": {
    "papermill": {
     "duration": 0.009851,
     "end_time": "2025-10-08T18:53:41.214619",
     "exception": false,
     "start_time": "2025-10-08T18:53:41.204768",
     "status": "completed"
    },
    "tags": []
   },
   "source": [
    "**Column :'votes'**"
   ]
  },
  {
   "cell_type": "code",
   "execution_count": 22,
   "id": "3d98d4be",
   "metadata": {
    "execution": {
     "iopub.execute_input": "2025-10-08T18:53:41.238258Z",
     "iopub.status.busy": "2025-10-08T18:53:41.237942Z",
     "iopub.status.idle": "2025-10-08T18:53:41.245779Z",
     "shell.execute_reply": "2025-10-08T18:53:41.244808Z"
    },
    "papermill": {
     "duration": 0.020914,
     "end_time": "2025-10-08T18:53:41.247403",
     "exception": false,
     "start_time": "2025-10-08T18:53:41.226489",
     "status": "completed"
    },
    "tags": []
   },
   "outputs": [
    {
     "data": {
      "text/plain": [
       "votes\n",
       "False    43533\n",
       "Name: count, dtype: int64"
      ]
     },
     "execution_count": 22,
     "metadata": {},
     "output_type": "execute_result"
    }
   ],
   "source": [
    "zmt['votes'].isnull().value_counts()"
   ]
  },
  {
   "cell_type": "markdown",
   "id": "0a571676",
   "metadata": {
    "papermill": {
     "duration": 0.011252,
     "end_time": "2025-10-08T18:53:41.269202",
     "exception": false,
     "start_time": "2025-10-08T18:53:41.257950",
     "status": "completed"
    },
    "tags": []
   },
   "source": [
    "**column :'location'**"
   ]
  },
  {
   "cell_type": "code",
   "execution_count": 23,
   "id": "1dfc7344",
   "metadata": {
    "execution": {
     "iopub.execute_input": "2025-10-08T18:53:41.293223Z",
     "iopub.status.busy": "2025-10-08T18:53:41.292893Z",
     "iopub.status.idle": "2025-10-08T18:53:41.301320Z",
     "shell.execute_reply": "2025-10-08T18:53:41.300248Z"
    },
    "papermill": {
     "duration": 0.023287,
     "end_time": "2025-10-08T18:53:41.303116",
     "exception": false,
     "start_time": "2025-10-08T18:53:41.279829",
     "status": "completed"
    },
    "tags": []
   },
   "outputs": [
    {
     "data": {
      "text/plain": [
       "array(['Banashankari', 'Basavanagudi', 'Mysore Road', 'Jayanagar',\n",
       "       'Kumaraswamy Layout', 'Rajarajeshwari Nagar', 'Vijay Nagar',\n",
       "       'Uttarahalli', 'JP Nagar', 'South Bangalore', 'City Market',\n",
       "       'Bannerghatta Road', 'BTM', 'Kanakapura Road', 'Bommanahalli',\n",
       "       'CV Raman Nagar', 'Electronic City', 'Wilson Garden',\n",
       "       'Shanti Nagar', 'Koramangala 5th Block', 'Richmond Road', 'HSR',\n",
       "       'Marathahalli', 'Koramangala 7th Block', 'Bellandur',\n",
       "       'Sarjapur Road', 'Whitefield', 'East Bangalore',\n",
       "       'Old Airport Road', 'Indiranagar', 'Koramangala 1st Block',\n",
       "       'Frazer Town', 'MG Road', 'Brigade Road', 'Lavelle Road',\n",
       "       'Church Street', 'Ulsoor', 'Residency Road', 'Shivajinagar',\n",
       "       'Infantry Road', 'St. Marks Road', 'Cunningham Road',\n",
       "       'Race Course Road', 'Commercial Street', 'Vasanth Nagar', 'Domlur',\n",
       "       'Koramangala 8th Block', 'Ejipura', 'Jeevan Bhima Nagar',\n",
       "       'Old Madras Road', 'Seshadripuram', 'Kammanahalli',\n",
       "       'Koramangala 6th Block', 'Majestic', 'Langford Town',\n",
       "       'Central Bangalore', 'Sanjay Nagar', 'Brookefield',\n",
       "       'ITPL Main Road, Whitefield', 'Varthur Main Road, Whitefield',\n",
       "       'Koramangala 2nd Block', 'Koramangala 3rd Block',\n",
       "       'Koramangala 4th Block', 'Koramangala', 'Hosur Road',\n",
       "       'Rajajinagar', 'RT Nagar', 'Banaswadi', 'North Bangalore',\n",
       "       'Nagawara', 'Hennur', 'Kalyan Nagar', 'HBR Layout',\n",
       "       'Rammurthy Nagar', 'Thippasandra', 'Kaggadasapura', 'Hebbal',\n",
       "       'Kengeri', 'New BEL Road', 'Sankey Road', 'Malleshwaram',\n",
       "       'Sadashiv Nagar', 'Basaveshwara Nagar', 'Yeshwantpur',\n",
       "       'West Bangalore', 'Magadi Road', 'Yelahanka', 'Sahakara Nagar',\n",
       "       'Jalahalli', 'Nagarbhavi', 'Peenya', 'KR Puram'], dtype=object)"
      ]
     },
     "execution_count": 23,
     "metadata": {},
     "output_type": "execute_result"
    }
   ],
   "source": [
    "zmt['location'].unique()"
   ]
  },
  {
   "cell_type": "markdown",
   "id": "58140907",
   "metadata": {
    "papermill": {
     "duration": 0.010192,
     "end_time": "2025-10-08T18:53:41.324187",
     "exception": false,
     "start_time": "2025-10-08T18:53:41.313995",
     "status": "completed"
    },
    "tags": []
   },
   "source": [
    "**Cloumn :'rest_type' and 'food_type'**"
   ]
  },
  {
   "cell_type": "code",
   "execution_count": 24,
   "id": "9d6327b9",
   "metadata": {
    "execution": {
     "iopub.execute_input": "2025-10-08T18:53:41.346359Z",
     "iopub.status.busy": "2025-10-08T18:53:41.346040Z",
     "iopub.status.idle": "2025-10-08T18:53:41.359139Z",
     "shell.execute_reply": "2025-10-08T18:53:41.358111Z"
    },
    "papermill": {
     "duration": 0.02641,
     "end_time": "2025-10-08T18:53:41.360784",
     "exception": false,
     "start_time": "2025-10-08T18:53:41.334374",
     "status": "completed"
    },
    "tags": []
   },
   "outputs": [
    {
     "data": {
      "text/plain": [
       "(array(['Casual Dining', 'Cafe, Casual Dining', 'Quick Bites',\n",
       "        'Casual Dining, Cafe', 'Cafe', 'Quick Bites, Cafe',\n",
       "        'Cafe, Quick Bites', 'Delivery', 'Mess', 'Dessert Parlor',\n",
       "        'Bakery, Dessert Parlor', 'Pub', 'Bakery', 'Takeaway, Delivery',\n",
       "        'Fine Dining', 'Beverage Shop', 'Sweet Shop', 'Bar',\n",
       "        'Dessert Parlor, Sweet Shop', 'Bakery, Quick Bites',\n",
       "        'Sweet Shop, Quick Bites', 'Kiosk', 'Food Truck',\n",
       "        'Quick Bites, Dessert Parlor', 'Beverage Shop, Quick Bites',\n",
       "        'Beverage Shop, Dessert Parlor', 'Takeaway', 'Pub, Casual Dining',\n",
       "        'Casual Dining, Bar', 'Dessert Parlor, Beverage Shop',\n",
       "        'Quick Bites, Bakery', 'Microbrewery, Casual Dining', 'Lounge',\n",
       "        'Bar, Casual Dining', 'Food Court', 'Cafe, Bakery', 'Dhaba',\n",
       "        'Quick Bites, Sweet Shop', 'Microbrewery',\n",
       "        'Food Court, Quick Bites', 'Quick Bites, Beverage Shop',\n",
       "        'Pub, Bar', 'Casual Dining, Pub', 'Lounge, Bar',\n",
       "        'Dessert Parlor, Quick Bites', 'Food Court, Dessert Parlor',\n",
       "        'Casual Dining, Sweet Shop', 'Food Court, Casual Dining',\n",
       "        'Casual Dining, Microbrewery', 'Lounge, Casual Dining',\n",
       "        'Cafe, Food Court', 'Beverage Shop, Cafe', 'Cafe, Dessert Parlor',\n",
       "        'Dessert Parlor, Cafe', 'Dessert Parlor, Bakery',\n",
       "        'Microbrewery, Pub', 'Bakery, Food Court', 'Club',\n",
       "        'Quick Bites, Food Court', 'Bakery, Cafe', 'Pub, Cafe',\n",
       "        'Casual Dining, Irani Cafee', 'Fine Dining, Lounge',\n",
       "        'Bar, Quick Bites', 'Confectionery', 'Pub, Microbrewery',\n",
       "        'Microbrewery, Lounge', 'Fine Dining, Microbrewery',\n",
       "        'Fine Dining, Bar', 'Dessert Parlor, Kiosk', 'Bhojanalya',\n",
       "        'Casual Dining, Quick Bites', 'Cafe, Bar', 'Casual Dining, Lounge',\n",
       "        'Bakery, Beverage Shop', 'Microbrewery, Bar', 'Cafe, Lounge',\n",
       "        'Bar, Pub', 'Lounge, Cafe', 'Club, Casual Dining',\n",
       "        'Quick Bites, Mess', 'Quick Bites, Meat Shop',\n",
       "        'Quick Bites, Kiosk', 'Lounge, Microbrewery',\n",
       "        'Food Court, Beverage Shop', 'Dessert Parlor, Food Court',\n",
       "        'Bar, Lounge'], dtype=object),\n",
       " rest_type\n",
       " False    43533\n",
       " Name: count, dtype: int64)"
      ]
     },
     "execution_count": 24,
     "metadata": {},
     "output_type": "execute_result"
    }
   ],
   "source": [
    "zmt['rest_type'].unique(),zmt.rest_type.isnull().value_counts()"
   ]
  },
  {
   "cell_type": "code",
   "execution_count": 25,
   "id": "cf9c1471",
   "metadata": {
    "execution": {
     "iopub.execute_input": "2025-10-08T18:53:41.383702Z",
     "iopub.status.busy": "2025-10-08T18:53:41.383383Z",
     "iopub.status.idle": "2025-10-08T18:53:41.397368Z",
     "shell.execute_reply": "2025-10-08T18:53:41.396464Z"
    },
    "papermill": {
     "duration": 0.027551,
     "end_time": "2025-10-08T18:53:41.398937",
     "exception": false,
     "start_time": "2025-10-08T18:53:41.371386",
     "status": "completed"
    },
    "tags": []
   },
   "outputs": [
    {
     "data": {
      "text/plain": [
       "(array(['North Indian, Mughlai, Chinese', 'Chinese, North Indian, Thai',\n",
       "        'Cafe, Mexican, Italian', ..., 'Tibetan, Nepalese',\n",
       "        'North Indian, Street Food, Biryani',\n",
       "        'North Indian, Chinese, Arabian, Momos'], dtype=object),\n",
       " food_type\n",
       " False    43533\n",
       " Name: count, dtype: int64)"
      ]
     },
     "execution_count": 25,
     "metadata": {},
     "output_type": "execute_result"
    }
   ],
   "source": [
    "zmt.food_type.unique(), zmt.food_type.isnull().value_counts()"
   ]
  },
  {
   "cell_type": "markdown",
   "id": "ef74ef60",
   "metadata": {
    "papermill": {
     "duration": 0.010892,
     "end_time": "2025-10-08T18:53:41.420503",
     "exception": false,
     "start_time": "2025-10-08T18:53:41.409611",
     "status": "completed"
    },
    "tags": []
   },
   "source": [
    "**Column :'cost'**"
   ]
  },
  {
   "cell_type": "code",
   "execution_count": 26,
   "id": "119fd63f",
   "metadata": {
    "execution": {
     "iopub.execute_input": "2025-10-08T18:53:41.444885Z",
     "iopub.status.busy": "2025-10-08T18:53:41.444442Z",
     "iopub.status.idle": "2025-10-08T18:53:41.452224Z",
     "shell.execute_reply": "2025-10-08T18:53:41.451194Z"
    },
    "papermill": {
     "duration": 0.021752,
     "end_time": "2025-10-08T18:53:41.453825",
     "exception": false,
     "start_time": "2025-10-08T18:53:41.432073",
     "status": "completed"
    },
    "tags": []
   },
   "outputs": [
    {
     "data": {
      "text/plain": [
       "array(['800', '300', '600', '700', '550', '500', '450', '650', '400',\n",
       "       '900', '200', '750', '150', '850', '100', '1,200', '350', '250',\n",
       "       '950', '1,000', '1,500', '1,300', '199', '80', '1,100', '160',\n",
       "       '1,600', '230', '130', '1,700', '1,400', '1,350', '2,200', '2,000',\n",
       "       '1,800', '1,900', '180', '330', '2,500', '2,100', '3,000', '2,800',\n",
       "       '3,400', '50', '40', '1,250', '3,500', '4,000', '2,400', '2,600',\n",
       "       '1,450', '70', '3,200', '560', '240', '360', '6,000', '1,050',\n",
       "       '2,300', '4,100', '120', '5,000', '3,700', '1,650', '2,700',\n",
       "       '4,500'], dtype=object)"
      ]
     },
     "execution_count": 26,
     "metadata": {},
     "output_type": "execute_result"
    }
   ],
   "source": [
    "zmt['cost'].unique()"
   ]
  },
  {
   "cell_type": "code",
   "execution_count": 27,
   "id": "ed141497",
   "metadata": {
    "execution": {
     "iopub.execute_input": "2025-10-08T18:53:41.476134Z",
     "iopub.status.busy": "2025-10-08T18:53:41.475822Z",
     "iopub.status.idle": "2025-10-08T18:53:41.494674Z",
     "shell.execute_reply": "2025-10-08T18:53:41.493702Z"
    },
    "papermill": {
     "duration": 0.032097,
     "end_time": "2025-10-08T18:53:41.496580",
     "exception": false,
     "start_time": "2025-10-08T18:53:41.464483",
     "status": "completed"
    },
    "tags": []
   },
   "outputs": [],
   "source": [
    "zmt.cost = zmt.cost.apply(lambda x:x.replace(\",\",\"\")).astype(int)"
   ]
  },
  {
   "cell_type": "code",
   "execution_count": 28,
   "id": "fbcc9358",
   "metadata": {
    "execution": {
     "iopub.execute_input": "2025-10-08T18:53:41.519851Z",
     "iopub.status.busy": "2025-10-08T18:53:41.519413Z",
     "iopub.status.idle": "2025-10-08T18:53:41.527108Z",
     "shell.execute_reply": "2025-10-08T18:53:41.525975Z"
    },
    "papermill": {
     "duration": 0.021033,
     "end_time": "2025-10-08T18:53:41.528958",
     "exception": false,
     "start_time": "2025-10-08T18:53:41.507925",
     "status": "completed"
    },
    "tags": []
   },
   "outputs": [
    {
     "data": {
      "text/plain": [
       "(array([ 800,  300,  600,  700,  550,  500,  450,  650,  400,  900,  200,\n",
       "         750,  150,  850,  100, 1200,  350,  250,  950, 1000, 1500, 1300,\n",
       "         199,   80, 1100,  160, 1600,  230,  130, 1700, 1400, 1350, 2200,\n",
       "        2000, 1800, 1900,  180,  330, 2500, 2100, 3000, 2800, 3400,   50,\n",
       "          40, 1250, 3500, 4000, 2400, 2600, 1450,   70, 3200,  560,  240,\n",
       "         360, 6000, 1050, 2300, 4100,  120, 5000, 3700, 1650, 2700, 4500]),\n",
       " dtype('int64'))"
      ]
     },
     "execution_count": 28,
     "metadata": {},
     "output_type": "execute_result"
    }
   ],
   "source": [
    "zmt.cost.unique(),zmt.cost.dtype"
   ]
  },
  {
   "cell_type": "markdown",
   "id": "36329b4c",
   "metadata": {
    "papermill": {
     "duration": 0.011145,
     "end_time": "2025-10-08T18:53:41.551367",
     "exception": false,
     "start_time": "2025-10-08T18:53:41.540222",
     "status": "completed"
    },
    "tags": []
   },
   "source": [
    "**Column :'type'**"
   ]
  },
  {
   "cell_type": "code",
   "execution_count": 29,
   "id": "c95493d4",
   "metadata": {
    "execution": {
     "iopub.execute_input": "2025-10-08T18:53:41.574679Z",
     "iopub.status.busy": "2025-10-08T18:53:41.574358Z",
     "iopub.status.idle": "2025-10-08T18:53:41.582036Z",
     "shell.execute_reply": "2025-10-08T18:53:41.581097Z"
    },
    "papermill": {
     "duration": 0.021373,
     "end_time": "2025-10-08T18:53:41.583592",
     "exception": false,
     "start_time": "2025-10-08T18:53:41.562219",
     "status": "completed"
    },
    "tags": []
   },
   "outputs": [
    {
     "data": {
      "text/plain": [
       "array(['Buffet', 'Cafes', 'Delivery', 'Desserts', 'Dine-out',\n",
       "       'Drinks & nightlife', 'Pubs and bars'], dtype=object)"
      ]
     },
     "execution_count": 29,
     "metadata": {},
     "output_type": "execute_result"
    }
   ],
   "source": [
    "zmt.type.unique()"
   ]
  },
  {
   "cell_type": "markdown",
   "id": "a60c000e",
   "metadata": {
    "papermill": {
     "duration": 0.010546,
     "end_time": "2025-10-08T18:53:41.605354",
     "exception": false,
     "start_time": "2025-10-08T18:53:41.594808",
     "status": "completed"
    },
    "tags": []
   },
   "source": [
    "**Column: 'city'**"
   ]
  },
  {
   "cell_type": "code",
   "execution_count": 30,
   "id": "c6647c69",
   "metadata": {
    "execution": {
     "iopub.execute_input": "2025-10-08T18:53:41.628553Z",
     "iopub.status.busy": "2025-10-08T18:53:41.628253Z",
     "iopub.status.idle": "2025-10-08T18:53:41.636019Z",
     "shell.execute_reply": "2025-10-08T18:53:41.635228Z"
    },
    "papermill": {
     "duration": 0.021423,
     "end_time": "2025-10-08T18:53:41.637666",
     "exception": false,
     "start_time": "2025-10-08T18:53:41.616243",
     "status": "completed"
    },
    "tags": []
   },
   "outputs": [
    {
     "data": {
      "text/plain": [
       "array(['Banashankari', 'Bannerghatta Road', 'Basavanagudi', 'Bellandur',\n",
       "       'Brigade Road', 'Brookefield', 'BTM', 'Church Street',\n",
       "       'Electronic City', 'Frazer Town', 'HSR', 'Indiranagar',\n",
       "       'Jayanagar', 'JP Nagar', 'Kalyan Nagar', 'Kammanahalli',\n",
       "       'Koramangala 4th Block', 'Koramangala 5th Block',\n",
       "       'Koramangala 6th Block', 'Koramangala 7th Block', 'Lavelle Road',\n",
       "       'Malleshwaram', 'Marathahalli', 'MG Road', 'New BEL Road',\n",
       "       'Old Airport Road', 'Rajajinagar', 'Residency Road',\n",
       "       'Sarjapur Road', 'Whitefield'], dtype=object)"
      ]
     },
     "execution_count": 30,
     "metadata": {},
     "output_type": "execute_result"
    }
   ],
   "source": [
    "zmt.city.unique()"
   ]
  },
  {
   "cell_type": "markdown",
   "id": "c462632d",
   "metadata": {
    "papermill": {
     "duration": 0.010955,
     "end_time": "2025-10-08T18:53:41.659736",
     "exception": false,
     "start_time": "2025-10-08T18:53:41.648781",
     "status": "completed"
    },
    "tags": []
   },
   "source": [
    "# Droping Duplicates"
   ]
  },
  {
   "cell_type": "code",
   "execution_count": 31,
   "id": "3819b4f8",
   "metadata": {
    "execution": {
     "iopub.execute_input": "2025-10-08T18:53:41.684798Z",
     "iopub.status.busy": "2025-10-08T18:53:41.684450Z",
     "iopub.status.idle": "2025-10-08T18:53:41.719899Z",
     "shell.execute_reply": "2025-10-08T18:53:41.718870Z"
    },
    "papermill": {
     "duration": 0.049545,
     "end_time": "2025-10-08T18:53:41.721485",
     "exception": false,
     "start_time": "2025-10-08T18:53:41.671940",
     "status": "completed"
    },
    "tags": []
   },
   "outputs": [
    {
     "name": "stdout",
     "output_type": "stream",
     "text": [
      "False    43453\n",
      "True        80\n",
      "Name: count, dtype: int64\n"
     ]
    }
   ],
   "source": [
    "print(zmt.duplicated().value_counts())"
   ]
  },
  {
   "cell_type": "code",
   "execution_count": 32,
   "id": "b1f9717f",
   "metadata": {
    "execution": {
     "iopub.execute_input": "2025-10-08T18:53:41.745697Z",
     "iopub.status.busy": "2025-10-08T18:53:41.745381Z",
     "iopub.status.idle": "2025-10-08T18:53:41.783885Z",
     "shell.execute_reply": "2025-10-08T18:53:41.782768Z"
    },
    "papermill": {
     "duration": 0.052361,
     "end_time": "2025-10-08T18:53:41.785643",
     "exception": false,
     "start_time": "2025-10-08T18:53:41.733282",
     "status": "completed"
    },
    "tags": []
   },
   "outputs": [],
   "source": [
    "zmt.drop_duplicates(keep='last',inplace=True)"
   ]
  },
  {
   "cell_type": "code",
   "execution_count": 33,
   "id": "7c3e2f23",
   "metadata": {
    "execution": {
     "iopub.execute_input": "2025-10-08T18:53:41.809466Z",
     "iopub.status.busy": "2025-10-08T18:53:41.809154Z",
     "iopub.status.idle": "2025-10-08T18:53:41.848013Z",
     "shell.execute_reply": "2025-10-08T18:53:41.846648Z"
    },
    "papermill": {
     "duration": 0.053004,
     "end_time": "2025-10-08T18:53:41.849678",
     "exception": false,
     "start_time": "2025-10-08T18:53:41.796674",
     "status": "completed"
    },
    "tags": []
   },
   "outputs": [
    {
     "name": "stdout",
     "output_type": "stream",
     "text": [
      "False    43453\n",
      "Name: count, dtype: int64\n"
     ]
    }
   ],
   "source": [
    "print(zmt.duplicated().value_counts())"
   ]
  },
  {
   "cell_type": "code",
   "execution_count": 34,
   "id": "fdf06f4b",
   "metadata": {
    "execution": {
     "iopub.execute_input": "2025-10-08T18:53:41.873023Z",
     "iopub.status.busy": "2025-10-08T18:53:41.872681Z",
     "iopub.status.idle": "2025-10-08T18:53:41.887912Z",
     "shell.execute_reply": "2025-10-08T18:53:41.886945Z"
    },
    "papermill": {
     "duration": 0.028751,
     "end_time": "2025-10-08T18:53:41.889607",
     "exception": false,
     "start_time": "2025-10-08T18:53:41.860856",
     "status": "completed"
    },
    "tags": []
   },
   "outputs": [
    {
     "data": {
      "text/html": [
       "<div>\n",
       "<style scoped>\n",
       "    .dataframe tbody tr th:only-of-type {\n",
       "        vertical-align: middle;\n",
       "    }\n",
       "\n",
       "    .dataframe tbody tr th {\n",
       "        vertical-align: top;\n",
       "    }\n",
       "\n",
       "    .dataframe thead th {\n",
       "        text-align: right;\n",
       "    }\n",
       "</style>\n",
       "<table border=\"1\" class=\"dataframe\">\n",
       "  <thead>\n",
       "    <tr style=\"text-align: right;\">\n",
       "      <th></th>\n",
       "      <th>restaurants</th>\n",
       "      <th>online_order</th>\n",
       "      <th>book_table</th>\n",
       "      <th>rating</th>\n",
       "      <th>votes</th>\n",
       "      <th>location</th>\n",
       "      <th>rest_type</th>\n",
       "      <th>food_type</th>\n",
       "      <th>cost</th>\n",
       "      <th>type</th>\n",
       "      <th>city</th>\n",
       "    </tr>\n",
       "  </thead>\n",
       "  <tbody>\n",
       "    <tr>\n",
       "      <th>0</th>\n",
       "      <td>Jalsa</td>\n",
       "      <td>Yes</td>\n",
       "      <td>Yes</td>\n",
       "      <td>4.1</td>\n",
       "      <td>775</td>\n",
       "      <td>Banashankari</td>\n",
       "      <td>Casual Dining</td>\n",
       "      <td>North Indian, Mughlai, Chinese</td>\n",
       "      <td>800</td>\n",
       "      <td>Buffet</td>\n",
       "      <td>Banashankari</td>\n",
       "    </tr>\n",
       "    <tr>\n",
       "      <th>1</th>\n",
       "      <td>Spice Elephant</td>\n",
       "      <td>Yes</td>\n",
       "      <td>No</td>\n",
       "      <td>4.1</td>\n",
       "      <td>787</td>\n",
       "      <td>Banashankari</td>\n",
       "      <td>Casual Dining</td>\n",
       "      <td>Chinese, North Indian, Thai</td>\n",
       "      <td>800</td>\n",
       "      <td>Buffet</td>\n",
       "      <td>Banashankari</td>\n",
       "    </tr>\n",
       "    <tr>\n",
       "      <th>2</th>\n",
       "      <td>San Churro Cafee</td>\n",
       "      <td>Yes</td>\n",
       "      <td>No</td>\n",
       "      <td>3.8</td>\n",
       "      <td>918</td>\n",
       "      <td>Banashankari</td>\n",
       "      <td>Cafe, Casual Dining</td>\n",
       "      <td>Cafe, Mexican, Italian</td>\n",
       "      <td>800</td>\n",
       "      <td>Buffet</td>\n",
       "      <td>Banashankari</td>\n",
       "    </tr>\n",
       "    <tr>\n",
       "      <th>3</th>\n",
       "      <td>Addhuri Udupi Bhojana</td>\n",
       "      <td>No</td>\n",
       "      <td>No</td>\n",
       "      <td>3.7</td>\n",
       "      <td>88</td>\n",
       "      <td>Banashankari</td>\n",
       "      <td>Quick Bites</td>\n",
       "      <td>South Indian, North Indian</td>\n",
       "      <td>300</td>\n",
       "      <td>Buffet</td>\n",
       "      <td>Banashankari</td>\n",
       "    </tr>\n",
       "    <tr>\n",
       "      <th>4</th>\n",
       "      <td>Grand Village</td>\n",
       "      <td>No</td>\n",
       "      <td>No</td>\n",
       "      <td>3.8</td>\n",
       "      <td>166</td>\n",
       "      <td>Basavanagudi</td>\n",
       "      <td>Casual Dining</td>\n",
       "      <td>North Indian, Rajasthani</td>\n",
       "      <td>600</td>\n",
       "      <td>Buffet</td>\n",
       "      <td>Banashankari</td>\n",
       "    </tr>\n",
       "    <tr>\n",
       "      <th>...</th>\n",
       "      <td>...</td>\n",
       "      <td>...</td>\n",
       "      <td>...</td>\n",
       "      <td>...</td>\n",
       "      <td>...</td>\n",
       "      <td>...</td>\n",
       "      <td>...</td>\n",
       "      <td>...</td>\n",
       "      <td>...</td>\n",
       "      <td>...</td>\n",
       "      <td>...</td>\n",
       "    </tr>\n",
       "    <tr>\n",
       "      <th>51709</th>\n",
       "      <td>The Farm House Bar n Grill</td>\n",
       "      <td>No</td>\n",
       "      <td>No</td>\n",
       "      <td>3.7</td>\n",
       "      <td>34</td>\n",
       "      <td>Whitefield</td>\n",
       "      <td>Casual Dining, Bar</td>\n",
       "      <td>North Indian, Continental</td>\n",
       "      <td>800</td>\n",
       "      <td>Pubs and bars</td>\n",
       "      <td>Whitefield</td>\n",
       "    </tr>\n",
       "    <tr>\n",
       "      <th>51711</th>\n",
       "      <td>Bhagini</td>\n",
       "      <td>No</td>\n",
       "      <td>No</td>\n",
       "      <td>2.5</td>\n",
       "      <td>81</td>\n",
       "      <td>Whitefield</td>\n",
       "      <td>Casual Dining, Bar</td>\n",
       "      <td>Andhra, South Indian, Chinese, North Indian</td>\n",
       "      <td>800</td>\n",
       "      <td>Pubs and bars</td>\n",
       "      <td>Whitefield</td>\n",
       "    </tr>\n",
       "    <tr>\n",
       "      <th>51712</th>\n",
       "      <td>Best Brews - Four Points by Sheraton Bengaluru...</td>\n",
       "      <td>No</td>\n",
       "      <td>No</td>\n",
       "      <td>3.6</td>\n",
       "      <td>27</td>\n",
       "      <td>Whitefield</td>\n",
       "      <td>Bar</td>\n",
       "      <td>Continental</td>\n",
       "      <td>1500</td>\n",
       "      <td>Pubs and bars</td>\n",
       "      <td>Whitefield</td>\n",
       "    </tr>\n",
       "    <tr>\n",
       "      <th>51715</th>\n",
       "      <td>Chime - Sheraton Grand Bengaluru Whitefield Ho...</td>\n",
       "      <td>No</td>\n",
       "      <td>Yes</td>\n",
       "      <td>4.3</td>\n",
       "      <td>236</td>\n",
       "      <td>ITPL Main Road, Whitefield</td>\n",
       "      <td>Bar</td>\n",
       "      <td>Finger Food</td>\n",
       "      <td>2500</td>\n",
       "      <td>Pubs and bars</td>\n",
       "      <td>Whitefield</td>\n",
       "    </tr>\n",
       "    <tr>\n",
       "      <th>51716</th>\n",
       "      <td>The Nest - The Den Bengaluru</td>\n",
       "      <td>No</td>\n",
       "      <td>No</td>\n",
       "      <td>3.4</td>\n",
       "      <td>13</td>\n",
       "      <td>ITPL Main Road, Whitefield</td>\n",
       "      <td>Bar, Casual Dining</td>\n",
       "      <td>Finger Food, North Indian, Continental</td>\n",
       "      <td>1500</td>\n",
       "      <td>Pubs and bars</td>\n",
       "      <td>Whitefield</td>\n",
       "    </tr>\n",
       "  </tbody>\n",
       "</table>\n",
       "<p>43453 rows × 11 columns</p>\n",
       "</div>"
      ],
      "text/plain": [
       "                                             restaurants online_order  \\\n",
       "0                                                  Jalsa          Yes   \n",
       "1                                         Spice Elephant          Yes   \n",
       "2                                       San Churro Cafee          Yes   \n",
       "3                                  Addhuri Udupi Bhojana           No   \n",
       "4                                          Grand Village           No   \n",
       "...                                                  ...          ...   \n",
       "51709                         The Farm House Bar n Grill           No   \n",
       "51711                                            Bhagini           No   \n",
       "51712  Best Brews - Four Points by Sheraton Bengaluru...           No   \n",
       "51715  Chime - Sheraton Grand Bengaluru Whitefield Ho...           No   \n",
       "51716                       The Nest - The Den Bengaluru           No   \n",
       "\n",
       "      book_table  rating  votes                    location  \\\n",
       "0            Yes     4.1    775                Banashankari   \n",
       "1             No     4.1    787                Banashankari   \n",
       "2             No     3.8    918                Banashankari   \n",
       "3             No     3.7     88                Banashankari   \n",
       "4             No     3.8    166                Basavanagudi   \n",
       "...          ...     ...    ...                         ...   \n",
       "51709         No     3.7     34                  Whitefield   \n",
       "51711         No     2.5     81                  Whitefield   \n",
       "51712         No     3.6     27                  Whitefield   \n",
       "51715        Yes     4.3    236  ITPL Main Road, Whitefield   \n",
       "51716         No     3.4     13  ITPL Main Road, Whitefield   \n",
       "\n",
       "                 rest_type                                    food_type  cost  \\\n",
       "0            Casual Dining               North Indian, Mughlai, Chinese   800   \n",
       "1            Casual Dining                  Chinese, North Indian, Thai   800   \n",
       "2      Cafe, Casual Dining                       Cafe, Mexican, Italian   800   \n",
       "3              Quick Bites                   South Indian, North Indian   300   \n",
       "4            Casual Dining                     North Indian, Rajasthani   600   \n",
       "...                    ...                                          ...   ...   \n",
       "51709   Casual Dining, Bar                    North Indian, Continental   800   \n",
       "51711   Casual Dining, Bar  Andhra, South Indian, Chinese, North Indian   800   \n",
       "51712                  Bar                                  Continental  1500   \n",
       "51715                  Bar                                  Finger Food  2500   \n",
       "51716   Bar, Casual Dining       Finger Food, North Indian, Continental  1500   \n",
       "\n",
       "                type          city  \n",
       "0             Buffet  Banashankari  \n",
       "1             Buffet  Banashankari  \n",
       "2             Buffet  Banashankari  \n",
       "3             Buffet  Banashankari  \n",
       "4             Buffet  Banashankari  \n",
       "...              ...           ...  \n",
       "51709  Pubs and bars    Whitefield  \n",
       "51711  Pubs and bars    Whitefield  \n",
       "51712  Pubs and bars    Whitefield  \n",
       "51715  Pubs and bars    Whitefield  \n",
       "51716  Pubs and bars    Whitefield  \n",
       "\n",
       "[43453 rows x 11 columns]"
      ]
     },
     "execution_count": 34,
     "metadata": {},
     "output_type": "execute_result"
    }
   ],
   "source": [
    "zmt"
   ]
  },
  {
   "cell_type": "code",
   "execution_count": 35,
   "id": "ab46d04d",
   "metadata": {
    "execution": {
     "iopub.execute_input": "2025-10-08T18:53:41.914643Z",
     "iopub.status.busy": "2025-10-08T18:53:41.914376Z",
     "iopub.status.idle": "2025-10-08T18:53:41.944020Z",
     "shell.execute_reply": "2025-10-08T18:53:41.942749Z"
    },
    "papermill": {
     "duration": 0.043775,
     "end_time": "2025-10-08T18:53:41.945757",
     "exception": false,
     "start_time": "2025-10-08T18:53:41.901982",
     "status": "completed"
    },
    "tags": []
   },
   "outputs": [
    {
     "name": "stdout",
     "output_type": "stream",
     "text": [
      "<class 'pandas.core.frame.DataFrame'>\n",
      "Index: 43453 entries, 0 to 51716\n",
      "Data columns (total 11 columns):\n",
      " #   Column        Non-Null Count  Dtype  \n",
      "---  ------        --------------  -----  \n",
      " 0   restaurants   43453 non-null  object \n",
      " 1   online_order  43453 non-null  object \n",
      " 2   book_table    43453 non-null  object \n",
      " 3   rating        43453 non-null  float64\n",
      " 4   votes         43453 non-null  int64  \n",
      " 5   location      43453 non-null  object \n",
      " 6   rest_type     43453 non-null  object \n",
      " 7   food_type     43453 non-null  object \n",
      " 8   cost          43453 non-null  int64  \n",
      " 9   type          43453 non-null  object \n",
      " 10  city          43453 non-null  object \n",
      "dtypes: float64(1), int64(2), object(8)\n",
      "memory usage: 4.0+ MB\n"
     ]
    }
   ],
   "source": [
    "zmt.info()"
   ]
  },
  {
   "cell_type": "code",
   "execution_count": 36,
   "id": "2cc0e6ce",
   "metadata": {
    "execution": {
     "iopub.execute_input": "2025-10-08T18:53:41.972376Z",
     "iopub.status.busy": "2025-10-08T18:53:41.971598Z",
     "iopub.status.idle": "2025-10-08T18:53:42.269047Z",
     "shell.execute_reply": "2025-10-08T18:53:42.267814Z"
    },
    "papermill": {
     "duration": 0.313285,
     "end_time": "2025-10-08T18:53:42.271319",
     "exception": false,
     "start_time": "2025-10-08T18:53:41.958034",
     "status": "completed"
    },
    "tags": []
   },
   "outputs": [],
   "source": [
    "zmt.to_csv('./zomato_clean_data.csv')"
   ]
  },
  {
   "cell_type": "markdown",
   "id": "0271f3de",
   "metadata": {
    "papermill": {
     "duration": 0.012069,
     "end_time": "2025-10-08T18:53:42.295451",
     "exception": false,
     "start_time": "2025-10-08T18:53:42.283382",
     "status": "completed"
    },
    "tags": []
   },
   "source": [
    "# Data visulaization"
   ]
  },
  {
   "cell_type": "code",
   "execution_count": 37,
   "id": "45bbdac2",
   "metadata": {
    "execution": {
     "iopub.execute_input": "2025-10-08T18:53:42.326778Z",
     "iopub.status.busy": "2025-10-08T18:53:42.326173Z",
     "iopub.status.idle": "2025-10-08T18:53:44.420798Z",
     "shell.execute_reply": "2025-10-08T18:53:44.419666Z"
    },
    "papermill": {
     "duration": 2.11606,
     "end_time": "2025-10-08T18:53:44.422961",
     "exception": false,
     "start_time": "2025-10-08T18:53:42.306901",
     "status": "completed"
    },
    "tags": []
   },
   "outputs": [],
   "source": [
    "import matplotlib.pyplot as plt\n",
    "import seaborn as sns"
   ]
  },
  {
   "cell_type": "code",
   "execution_count": 38,
   "id": "eb817f25",
   "metadata": {
    "execution": {
     "iopub.execute_input": "2025-10-08T18:53:44.447074Z",
     "iopub.status.busy": "2025-10-08T18:53:44.446497Z",
     "iopub.status.idle": "2025-10-08T18:53:44.451322Z",
     "shell.execute_reply": "2025-10-08T18:53:44.450081Z"
    },
    "papermill": {
     "duration": 0.018562,
     "end_time": "2025-10-08T18:53:44.452944",
     "exception": false,
     "start_time": "2025-10-08T18:53:44.434382",
     "status": "completed"
    },
    "tags": []
   },
   "outputs": [],
   "source": [
    "# restaurants accepting online orders for zomato"
   ]
  },
  {
   "cell_type": "code",
   "execution_count": 39,
   "id": "a875bdec",
   "metadata": {
    "execution": {
     "iopub.execute_input": "2025-10-08T18:53:44.478095Z",
     "iopub.status.busy": "2025-10-08T18:53:44.477472Z",
     "iopub.status.idle": "2025-10-08T18:53:44.709141Z",
     "shell.execute_reply": "2025-10-08T18:53:44.707973Z"
    },
    "papermill": {
     "duration": 0.246775,
     "end_time": "2025-10-08T18:53:44.711123",
     "exception": false,
     "start_time": "2025-10-08T18:53:44.464348",
     "status": "completed"
    },
    "tags": []
   },
   "outputs": [
    {
     "data": {
      "image/png": "[encoded data removed]",
      "text/plain": [
       "<Figure size 1000x500 with 1 Axes>"
      ]
     },
     "metadata": {},
     "output_type": "display_data"
    }
   ],
   "source": [
    "plt.figure(figsize =(10,5))\n",
    "sns.countplot(x='online_order',data=zmt)\n",
    "plt.show()"
   ]
  },
  {
   "cell_type": "code",
   "execution_count": 40,
   "id": "c48e7e98",
   "metadata": {
    "execution": {
     "iopub.execute_input": "2025-10-08T18:53:44.737323Z",
     "iopub.status.busy": "2025-10-08T18:53:44.736997Z",
     "iopub.status.idle": "2025-10-08T18:53:44.742125Z",
     "shell.execute_reply": "2025-10-08T18:53:44.741151Z"
    },
    "papermill": {
     "duration": 0.020782,
     "end_time": "2025-10-08T18:53:44.743750",
     "exception": false,
     "start_time": "2025-10-08T18:53:44.722968",
     "status": "completed"
    },
    "tags": []
   },
   "outputs": [],
   "source": [
    "#Find the best location by seeing the dataset."
   ]
  },
  {
   "cell_type": "code",
   "execution_count": 41,
   "id": "ce1a7e22",
   "metadata": {
    "execution": {
     "iopub.execute_input": "2025-10-08T18:53:44.769418Z",
     "iopub.status.busy": "2025-10-08T18:53:44.768427Z",
     "iopub.status.idle": "2025-10-08T18:53:45.058693Z",
     "shell.execute_reply": "2025-10-08T18:53:45.057662Z"
    },
    "papermill": {
     "duration": 0.304932,
     "end_time": "2025-10-08T18:53:45.060438",
     "exception": false,
     "start_time": "2025-10-08T18:53:44.755506",
     "status": "completed"
    },
    "tags": []
   },
   "outputs": [
    {
     "data": {
      "image/png": "[encoded data removed]",
      "text/plain": [
       "<Figure size 1600x1000 with 1 Axes>"
      ]
     },
     "metadata": {},
     "output_type": "display_data"
    }
   ],
   "source": [
    "plt.figure(figsize=(16,10))\n",
    "ax=plt.subplot(2,1,1)"
   ]
  },
  {
   "cell_type": "code",
   "execution_count": 42,
   "id": "c22fba6d",
   "metadata": {
    "execution": {
     "iopub.execute_input": "2025-10-08T18:53:45.089291Z",
     "iopub.status.busy": "2025-10-08T18:53:45.088979Z",
     "iopub.status.idle": "2025-10-08T18:53:45.503239Z",
     "shell.execute_reply": "2025-10-08T18:53:45.502105Z"
    },
    "papermill": {
     "duration": 0.431011,
     "end_time": "2025-10-08T18:53:45.506001",
     "exception": false,
     "start_time": "2025-10-08T18:53:45.074990",
     "status": "completed"
    },
    "tags": []
   },
   "outputs": [
    {
     "data": {
      "text/plain": [
       "<Axes: xlabel='location', ylabel='votes'>"
      ]
     },
     "execution_count": 42,
     "metadata": {},
     "output_type": "execute_result"
    },
    {
     "data": {
      "image/png": "[encoded data removed]",
      "text/plain": [
       "<Figure size 1600x1000 with 2 Axes>"
      ]
     },
     "metadata": {},
     "output_type": "display_data"
    }
   ],
   "source": [
    "plt.figure(figsize=(16,10))\n",
    "ax= plt.subplot(2,1,1)\n",
    "loc_rating=zmt.groupby('location').agg({'rating':'median'})\n",
    "rating_sorted_loc=loc_rating.sort_values('rating',ascending=False).head(5).reset_index()\n",
    "sns.barplot(x='location',y='rating', data=rating_sorted_loc)\n",
    "ax.set_title(\"Best locations by rating and votes\")\n",
    "ax= plt.subplot(2,1,2)\n",
    "loc_votes=zmt.groupby('location').agg({'votes':'median'})\n",
    "votes_sorted_loc=loc_votes.sort_values('votes',ascending=False).head(5).reset_index()\n",
    "sns.barplot(x='location',y='votes', data=votes_sorted_loc)"
   ]
  },
  {
   "cell_type": "code",
   "execution_count": 43,
   "id": "f537aaee",
   "metadata": {
    "execution": {
     "iopub.execute_input": "2025-10-08T18:53:45.535381Z",
     "iopub.status.busy": "2025-10-08T18:53:45.535002Z",
     "iopub.status.idle": "2025-10-08T18:53:45.544591Z",
     "shell.execute_reply": "2025-10-08T18:53:45.543558Z"
    },
    "papermill": {
     "duration": 0.025989,
     "end_time": "2025-10-08T18:53:45.546265",
     "exception": false,
     "start_time": "2025-10-08T18:53:45.520276",
     "status": "completed"
    },
    "tags": []
   },
   "outputs": [
    {
     "data": {
      "text/html": [
       "<div>\n",
       "<style scoped>\n",
       "    .dataframe tbody tr th:only-of-type {\n",
       "        vertical-align: middle;\n",
       "    }\n",
       "\n",
       "    .dataframe tbody tr th {\n",
       "        vertical-align: top;\n",
       "    }\n",
       "\n",
       "    .dataframe thead th {\n",
       "        text-align: right;\n",
       "    }\n",
       "</style>\n",
       "<table border=\"1\" class=\"dataframe\">\n",
       "  <thead>\n",
       "    <tr style=\"text-align: right;\">\n",
       "      <th></th>\n",
       "      <th>location</th>\n",
       "      <th>rating</th>\n",
       "    </tr>\n",
       "  </thead>\n",
       "  <tbody>\n",
       "    <tr>\n",
       "      <th>0</th>\n",
       "      <td>Lavelle Road</td>\n",
       "      <td>4.3</td>\n",
       "    </tr>\n",
       "    <tr>\n",
       "      <th>1</th>\n",
       "      <td>Koramangala 5th Block</td>\n",
       "      <td>4.1</td>\n",
       "    </tr>\n",
       "    <tr>\n",
       "      <th>2</th>\n",
       "      <td>Koramangala 3rd Block</td>\n",
       "      <td>4.1</td>\n",
       "    </tr>\n",
       "    <tr>\n",
       "      <th>3</th>\n",
       "      <td>St. Marks Road</td>\n",
       "      <td>4.1</td>\n",
       "    </tr>\n",
       "    <tr>\n",
       "      <th>4</th>\n",
       "      <td>Church Street</td>\n",
       "      <td>4.1</td>\n",
       "    </tr>\n",
       "  </tbody>\n",
       "</table>\n",
       "</div>"
      ],
      "text/plain": [
       "                location  rating\n",
       "0           Lavelle Road     4.3\n",
       "1  Koramangala 5th Block     4.1\n",
       "2  Koramangala 3rd Block     4.1\n",
       "3         St. Marks Road     4.1\n",
       "4          Church Street     4.1"
      ]
     },
     "execution_count": 43,
     "metadata": {},
     "output_type": "execute_result"
    }
   ],
   "source": [
    "rating_sorted_loc"
   ]
  }
 ],
 "metadata": {
  "kaggle": {
   "accelerator": "none",
   "dataSources": [
    {
     "datasetId": 2826904,
     "sourceId": 4875434,
     "sourceType": "datasetVersion"
    }
   ],
   "dockerImageVersionId": 31089,
   "isGpuEnabled": false,
   "isInternetEnabled": false,
   "language": "python",
   "sourceType": "notebook"
  },
  "kernelspec": {
   "display_name": "Python 3",
   "language": "python",
   "name": "python3"
  },
  "language_info": {
   "codemirror_mode": {
    "name": "ipython",
    "version": 3
   },
   "file_extension": ".py",
   "mimetype": "text/x-python",
   "name": "python",
   "nbconvert_exporter": "python",
   "pygments_lexer": "ipython3",
   "version": "3.11.13"
  },
  "papermill": {
   "default_parameters": {},
   "duration": 27.7535,
   "end_time": "2025-10-08T18:53:46.382199",
   "environment_variables": {},
   "exception": null,
   "input_path": "__notebook__.ipynb",
   "output_path": "__notebook__.ipynb",
   "parameters": {},
   "start_time": "2025-10-08T18:53:18.628699",
   "version": "2.6.0"
  }
 },
 "nbformat": 4,
 "nbformat_minor": 5
}
