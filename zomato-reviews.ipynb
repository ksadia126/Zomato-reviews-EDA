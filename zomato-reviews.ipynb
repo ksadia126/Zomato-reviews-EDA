{
 "cells": [
  {
   "cell_type": "markdown",
   "id": "00348664",
   "metadata": {
    "papermill": {
     "duration": 0.0098,
     "end_time": "2025-10-08T14:33:05.379790",
     "exception": false,
     "start_time": "2025-10-08T14:33:05.369990",
     "status": "completed"
    },
    "tags": []
   },
   "source": [
    "# Importing Libraries\n"
   ]
  },
  {
   "cell_type": "code",
   "execution_count": 1,
   "id": "d72b46f8",
   "metadata": {
    "_cell_guid": "b1076dfc-b9ad-4769-8c92-a6c4dae69d19",
    "_uuid": "8f2839f25d086af736a60e9eeb907d3b93b6e0e5",
    "execution": {
     "iopub.execute_input": "2025-10-08T14:33:05.396288Z",
     "iopub.status.busy": "2025-10-08T14:33:05.395957Z",
     "iopub.status.idle": "2025-10-08T14:33:07.645217Z",
     "shell.execute_reply": "2025-10-08T14:33:07.643671Z"
    },
    "papermill": {
     "duration": 2.259814,
     "end_time": "2025-10-08T14:33:07.647313",
     "exception": false,
     "start_time": "2025-10-08T14:33:05.387499",
     "status": "completed"
    },
    "tags": []
   },
   "outputs": [
    {
     "name": "stdout",
     "output_type": "stream",
     "text": [
      "/kaggle/input/tomato-reviews/zomato.csv\n"
     ]
    }
   ],
   "source": [
    "# This Python 3 environment comes with many helpful analytics libraries installed\n",
    "# It is defined by the kaggle/python Docker image: https://github.com/kaggle/docker-python\n",
    "# For example, here's several helpful packages to load\n",
    "\n",
    "import numpy as np # linear algebra\n",
    "import pandas as pd # data processing, CSV file I/O (e.g. pd.read_csv)\n",
    "\n",
    "# Input data files are available in the read-only \"../input/\" directory\n",
    "# For example, running this (by clicking run or pressing Shift+Enter) will list all files under the input directory\n",
    "\n",
    "import os\n",
    "for dirname, _, filenames in os.walk('/kaggle/input'):\n",
    "    for filename in filenames:\n",
    "        print(os.path.join(dirname, filename))\n",
    "\n",
    "# You can write up to 20GB to the current directory (/kaggle/working/) that gets preserved as output when you create a version using \"Save & Run All\" \n",
    "# You can also write temporary files to /kaggle/temp/, but they won't be saved outside of the current session"
   ]
  },
  {
   "cell_type": "markdown",
   "id": "4464b525",
   "metadata": {
    "papermill": {
     "duration": 0.008073,
     "end_time": "2025-10-08T14:33:07.663211",
     "exception": false,
     "start_time": "2025-10-08T14:33:07.655138",
     "status": "completed"
    },
    "tags": []
   },
   "source": [
    "# Reading Dataset"
   ]
  },
  {
   "cell_type": "code",
   "execution_count": 2,
   "id": "2cd65c65",
   "metadata": {
    "execution": {
     "iopub.execute_input": "2025-10-08T14:33:07.680473Z",
     "iopub.status.busy": "2025-10-08T14:33:07.679947Z",
     "iopub.status.idle": "2025-10-08T14:33:22.277594Z",
     "shell.execute_reply": "2025-10-08T14:33:22.276610Z"
    },
    "papermill": {
     "duration": 14.607998,
     "end_time": "2025-10-08T14:33:22.279309",
     "exception": false,
     "start_time": "2025-10-08T14:33:07.671311",
     "status": "completed"
    },
    "tags": []
   },
   "outputs": [],
   "source": [
    "zmt = pd.read_csv('/kaggle/input/tomato-reviews/zomato.csv')"
   ]
  },
  {
   "cell_type": "code",
   "execution_count": 3,
   "id": "ca790494",
   "metadata": {
    "execution": {
     "iopub.execute_input": "2025-10-08T14:33:22.296633Z",
     "iopub.status.busy": "2025-10-08T14:33:22.296301Z",
     "iopub.status.idle": "2025-10-08T14:33:22.330346Z",
     "shell.execute_reply": "2025-10-08T14:33:22.329407Z"
    },
    "papermill": {
     "duration": 0.044586,
     "end_time": "2025-10-08T14:33:22.332162",
     "exception": false,
     "start_time": "2025-10-08T14:33:22.287576",
     "status": "completed"
    },
    "tags": []
   },
   "outputs": [
    {
     "data": {
      "text/html": [
       "<div>\n",
       "<style scoped>\n",
       "    .dataframe tbody tr th:only-of-type {\n",
       "        vertical-align: middle;\n",
       "    }\n",
       "\n",
       "    .dataframe tbody tr th {\n",
       "        vertical-align: top;\n",
       "    }\n",
       "\n",
       "    .dataframe thead th {\n",
       "        text-align: right;\n",
       "    }\n",
       "</style>\n",
       "<table border=\"1\" class=\"dataframe\">\n",
       "  <thead>\n",
       "    <tr style=\"text-align: right;\">\n",
       "      <th></th>\n",
       "      <th>url</th>\n",
       "      <th>address</th>\n",
       "      <th>name</th>\n",
       "      <th>online_order</th>\n",
       "      <th>book_table</th>\n",
       "      <th>rate</th>\n",
       "      <th>votes</th>\n",
       "      <th>phone</th>\n",
       "      <th>location</th>\n",
       "      <th>rest_type</th>\n",
       "      <th>dish_liked</th>\n",
       "      <th>cuisines</th>\n",
       "      <th>approx_cost(for two people)</th>\n",
       "      <th>reviews_list</th>\n",
       "      <th>menu_item</th>\n",
       "      <th>listed_in(type)</th>\n",
       "      <th>listed_in(city)</th>\n",
       "    </tr>\n",
       "  </thead>\n",
       "  <tbody>\n",
       "    <tr>\n",
       "      <th>0</th>\n",
       "      <td>https://www.zomato.com/bangalore/jalsa-banasha...</td>\n",
       "      <td>942, 21st Main Road, 2nd Stage, Banashankari, ...</td>\n",
       "      <td>Jalsa</td>\n",
       "      <td>Yes</td>\n",
       "      <td>Yes</td>\n",
       "      <td>4.1/5</td>\n",
       "      <td>775</td>\n",
       "      <td>080 42297555\\r\\n+91 9743772233</td>\n",
       "      <td>Banashankari</td>\n",
       "      <td>Casual Dining</td>\n",
       "      <td>Pasta, Lunch Buffet, Masala Papad, Paneer Laja...</td>\n",
       "      <td>North Indian, Mughlai, Chinese</td>\n",
       "      <td>800</td>\n",
       "      <td>[('Rated 4.0', 'RATED\\n  A beautiful place to ...</td>\n",
       "      <td>[]</td>\n",
       "      <td>Buffet</td>\n",
       "      <td>Banashankari</td>\n",
       "    </tr>\n",
       "    <tr>\n",
       "      <th>1</th>\n",
       "      <td>https://www.zomato.com/bangalore/spice-elephan...</td>\n",
       "      <td>2nd Floor, 80 Feet Road, Near Big Bazaar, 6th ...</td>\n",
       "      <td>Spice Elephant</td>\n",
       "      <td>Yes</td>\n",
       "      <td>No</td>\n",
       "      <td>4.1/5</td>\n",
       "      <td>787</td>\n",
       "      <td>080 41714161</td>\n",
       "      <td>Banashankari</td>\n",
       "      <td>Casual Dining</td>\n",
       "      <td>Momos, Lunch Buffet, Chocolate Nirvana, Thai G...</td>\n",
       "      <td>Chinese, North Indian, Thai</td>\n",
       "      <td>800</td>\n",
       "      <td>[('Rated 4.0', 'RATED\\n  Had been here for din...</td>\n",
       "      <td>[]</td>\n",
       "      <td>Buffet</td>\n",
       "      <td>Banashankari</td>\n",
       "    </tr>\n",
       "    <tr>\n",
       "      <th>2</th>\n",
       "      <td>https://www.zomato.com/SanchurroBangalore?cont...</td>\n",
       "      <td>1112, Next to KIMS Medical College, 17th Cross...</td>\n",
       "      <td>San Churro Cafe</td>\n",
       "      <td>Yes</td>\n",
       "      <td>No</td>\n",
       "      <td>3.8/5</td>\n",
       "      <td>918</td>\n",
       "      <td>+91 9663487993</td>\n",
       "      <td>Banashankari</td>\n",
       "      <td>Cafe, Casual Dining</td>\n",
       "      <td>Churros, Cannelloni, Minestrone Soup, Hot Choc...</td>\n",
       "      <td>Cafe, Mexican, Italian</td>\n",
       "      <td>800</td>\n",
       "      <td>[('Rated 3.0', \"RATED\\n  Ambience is not that ...</td>\n",
       "      <td>[]</td>\n",
       "      <td>Buffet</td>\n",
       "      <td>Banashankari</td>\n",
       "    </tr>\n",
       "    <tr>\n",
       "      <th>3</th>\n",
       "      <td>https://www.zomato.com/bangalore/addhuri-udupi...</td>\n",
       "      <td>1st Floor, Annakuteera, 3rd Stage, Banashankar...</td>\n",
       "      <td>Addhuri Udupi Bhojana</td>\n",
       "      <td>No</td>\n",
       "      <td>No</td>\n",
       "      <td>3.7/5</td>\n",
       "      <td>88</td>\n",
       "      <td>+91 9620009302</td>\n",
       "      <td>Banashankari</td>\n",
       "      <td>Quick Bites</td>\n",
       "      <td>Masala Dosa</td>\n",
       "      <td>South Indian, North Indian</td>\n",
       "      <td>300</td>\n",
       "      <td>[('Rated 4.0', \"RATED\\n  Great food and proper...</td>\n",
       "      <td>[]</td>\n",
       "      <td>Buffet</td>\n",
       "      <td>Banashankari</td>\n",
       "    </tr>\n",
       "    <tr>\n",
       "      <th>4</th>\n",
       "      <td>https://www.zomato.com/bangalore/grand-village...</td>\n",
       "      <td>10, 3rd Floor, Lakshmi Associates, Gandhi Baza...</td>\n",
       "      <td>Grand Village</td>\n",
       "      <td>No</td>\n",
       "      <td>No</td>\n",
       "      <td>3.8/5</td>\n",
       "      <td>166</td>\n",
       "      <td>+91 8026612447\\r\\n+91 9901210005</td>\n",
       "      <td>Basavanagudi</td>\n",
       "      <td>Casual Dining</td>\n",
       "      <td>Panipuri, Gol Gappe</td>\n",
       "      <td>North Indian, Rajasthani</td>\n",
       "      <td>600</td>\n",
       "      <td>[('Rated 4.0', 'RATED\\n  Very good restaurant ...</td>\n",
       "      <td>[]</td>\n",
       "      <td>Buffet</td>\n",
       "      <td>Banashankari</td>\n",
       "    </tr>\n",
       "  </tbody>\n",
       "</table>\n",
       "</div>"
      ],
      "text/plain": [
       "                                                 url  \\\n",
       "0  https://www.zomato.com/bangalore/jalsa-banasha...   \n",
       "1  https://www.zomato.com/bangalore/spice-elephan...   \n",
       "2  https://www.zomato.com/SanchurroBangalore?cont...   \n",
       "3  https://www.zomato.com/bangalore/addhuri-udupi...   \n",
       "4  https://www.zomato.com/bangalore/grand-village...   \n",
       "\n",
       "                                             address                   name  \\\n",
       "0  942, 21st Main Road, 2nd Stage, Banashankari, ...                  Jalsa   \n",
       "1  2nd Floor, 80 Feet Road, Near Big Bazaar, 6th ...         Spice Elephant   \n",
       "2  1112, Next to KIMS Medical College, 17th Cross...        San Churro Cafe   \n",
       "3  1st Floor, Annakuteera, 3rd Stage, Banashankar...  Addhuri Udupi Bhojana   \n",
       "4  10, 3rd Floor, Lakshmi Associates, Gandhi Baza...          Grand Village   \n",
       "\n",
       "  online_order book_table   rate  votes                             phone  \\\n",
       "0          Yes        Yes  4.1/5    775    080 42297555\\r\\n+91 9743772233   \n",
       "1          Yes         No  4.1/5    787                      080 41714161   \n",
       "2          Yes         No  3.8/5    918                    +91 9663487993   \n",
       "3           No         No  3.7/5     88                    +91 9620009302   \n",
       "4           No         No  3.8/5    166  +91 8026612447\\r\\n+91 9901210005   \n",
       "\n",
       "       location            rest_type  \\\n",
       "0  Banashankari        Casual Dining   \n",
       "1  Banashankari        Casual Dining   \n",
       "2  Banashankari  Cafe, Casual Dining   \n",
       "3  Banashankari          Quick Bites   \n",
       "4  Basavanagudi        Casual Dining   \n",
       "\n",
       "                                          dish_liked  \\\n",
       "0  Pasta, Lunch Buffet, Masala Papad, Paneer Laja...   \n",
       "1  Momos, Lunch Buffet, Chocolate Nirvana, Thai G...   \n",
       "2  Churros, Cannelloni, Minestrone Soup, Hot Choc...   \n",
       "3                                        Masala Dosa   \n",
       "4                                Panipuri, Gol Gappe   \n",
       "\n",
       "                         cuisines approx_cost(for two people)  \\\n",
       "0  North Indian, Mughlai, Chinese                         800   \n",
       "1     Chinese, North Indian, Thai                         800   \n",
       "2          Cafe, Mexican, Italian                         800   \n",
       "3      South Indian, North Indian                         300   \n",
       "4        North Indian, Rajasthani                         600   \n",
       "\n",
       "                                        reviews_list menu_item  \\\n",
       "0  [('Rated 4.0', 'RATED\\n  A beautiful place to ...        []   \n",
       "1  [('Rated 4.0', 'RATED\\n  Had been here for din...        []   \n",
       "2  [('Rated 3.0', \"RATED\\n  Ambience is not that ...        []   \n",
       "3  [('Rated 4.0', \"RATED\\n  Great food and proper...        []   \n",
       "4  [('Rated 4.0', 'RATED\\n  Very good restaurant ...        []   \n",
       "\n",
       "  listed_in(type) listed_in(city)  \n",
       "0          Buffet    Banashankari  \n",
       "1          Buffet    Banashankari  \n",
       "2          Buffet    Banashankari  \n",
       "3          Buffet    Banashankari  \n",
       "4          Buffet    Banashankari  "
      ]
     },
     "execution_count": 3,
     "metadata": {},
     "output_type": "execute_result"
    }
   ],
   "source": [
    "zmt.head()"
   ]
  },
  {
   "cell_type": "code",
   "execution_count": 4,
   "id": "925b8184",
   "metadata": {
    "execution": {
     "iopub.execute_input": "2025-10-08T14:33:22.349960Z",
     "iopub.status.busy": "2025-10-08T14:33:22.349584Z",
     "iopub.status.idle": "2025-10-08T14:33:22.443852Z",
     "shell.execute_reply": "2025-10-08T14:33:22.442630Z"
    },
    "papermill": {
     "duration": 0.105396,
     "end_time": "2025-10-08T14:33:22.445741",
     "exception": false,
     "start_time": "2025-10-08T14:33:22.340345",
     "status": "completed"
    },
    "tags": []
   },
   "outputs": [
    {
     "name": "stdout",
     "output_type": "stream",
     "text": [
      "<class 'pandas.core.frame.DataFrame'>\n",
      "RangeIndex: 51717 entries, 0 to 51716\n",
      "Data columns (total 17 columns):\n",
      " #   Column                       Non-Null Count  Dtype \n",
      "---  ------                       --------------  ----- \n",
      " 0   url                          51717 non-null  object\n",
      " 1   address                      51717 non-null  object\n",
      " 2   name                         51717 non-null  object\n",
      " 3   online_order                 51717 non-null  object\n",
      " 4   book_table                   51717 non-null  object\n",
      " 5   rate                         43942 non-null  object\n",
      " 6   votes                        51717 non-null  int64 \n",
      " 7   phone                        50509 non-null  object\n",
      " 8   location                     51696 non-null  object\n",
      " 9   rest_type                    51490 non-null  object\n",
      " 10  dish_liked                   23639 non-null  object\n",
      " 11  cuisines                     51672 non-null  object\n",
      " 12  approx_cost(for two people)  51371 non-null  object\n",
      " 13  reviews_list                 51717 non-null  object\n",
      " 14  menu_item                    51717 non-null  object\n",
      " 15  listed_in(type)              51717 non-null  object\n",
      " 16  listed_in(city)              51717 non-null  object\n",
      "dtypes: int64(1), object(16)\n",
      "memory usage: 6.7+ MB\n"
     ]
    }
   ],
   "source": [
    "zmt.info()"
   ]
  },
  {
   "cell_type": "markdown",
   "id": "afaf5924",
   "metadata": {
    "papermill": {
     "duration": 0.00831,
     "end_time": "2025-10-08T14:33:22.462050",
     "exception": false,
     "start_time": "2025-10-08T14:33:22.453740",
     "status": "completed"
    },
    "tags": []
   },
   "source": [
    "# Droping unnecessary column"
   ]
  },
  {
   "cell_type": "code",
   "execution_count": 5,
   "id": "69eaa82d",
   "metadata": {
    "execution": {
     "iopub.execute_input": "2025-10-08T14:33:22.480934Z",
     "iopub.status.busy": "2025-10-08T14:33:22.480561Z",
     "iopub.status.idle": "2025-10-08T14:33:22.497100Z",
     "shell.execute_reply": "2025-10-08T14:33:22.495952Z"
    },
    "papermill": {
     "duration": 0.028201,
     "end_time": "2025-10-08T14:33:22.499090",
     "exception": false,
     "start_time": "2025-10-08T14:33:22.470889",
     "status": "completed"
    },
    "tags": []
   },
   "outputs": [],
   "source": [
    "zmt.drop(['url', 'reviews_list', 'menu_item', 'address', 'phone', 'dish_liked'], axis=1, inplace=True)"
   ]
  },
  {
   "cell_type": "code",
   "execution_count": 6,
   "id": "e3d37b66",
   "metadata": {
    "execution": {
     "iopub.execute_input": "2025-10-08T14:33:22.517744Z",
     "iopub.status.busy": "2025-10-08T14:33:22.517307Z",
     "iopub.status.idle": "2025-10-08T14:33:22.531451Z",
     "shell.execute_reply": "2025-10-08T14:33:22.530054Z"
    },
    "papermill": {
     "duration": 0.026067,
     "end_time": "2025-10-08T14:33:22.533353",
     "exception": false,
     "start_time": "2025-10-08T14:33:22.507286",
     "status": "completed"
    },
    "tags": []
   },
   "outputs": [
    {
     "data": {
      "text/html": [
       "<div>\n",
       "<style scoped>\n",
       "    .dataframe tbody tr th:only-of-type {\n",
       "        vertical-align: middle;\n",
       "    }\n",
       "\n",
       "    .dataframe tbody tr th {\n",
       "        vertical-align: top;\n",
       "    }\n",
       "\n",
       "    .dataframe thead th {\n",
       "        text-align: right;\n",
       "    }\n",
       "</style>\n",
       "<table border=\"1\" class=\"dataframe\">\n",
       "  <thead>\n",
       "    <tr style=\"text-align: right;\">\n",
       "      <th></th>\n",
       "      <th>name</th>\n",
       "      <th>online_order</th>\n",
       "      <th>book_table</th>\n",
       "      <th>rate</th>\n",
       "      <th>votes</th>\n",
       "      <th>location</th>\n",
       "      <th>rest_type</th>\n",
       "      <th>cuisines</th>\n",
       "      <th>approx_cost(for two people)</th>\n",
       "      <th>listed_in(type)</th>\n",
       "      <th>listed_in(city)</th>\n",
       "    </tr>\n",
       "  </thead>\n",
       "  <tbody>\n",
       "    <tr>\n",
       "      <th>0</th>\n",
       "      <td>Jalsa</td>\n",
       "      <td>Yes</td>\n",
       "      <td>Yes</td>\n",
       "      <td>4.1/5</td>\n",
       "      <td>775</td>\n",
       "      <td>Banashankari</td>\n",
       "      <td>Casual Dining</td>\n",
       "      <td>North Indian, Mughlai, Chinese</td>\n",
       "      <td>800</td>\n",
       "      <td>Buffet</td>\n",
       "      <td>Banashankari</td>\n",
       "    </tr>\n",
       "    <tr>\n",
       "      <th>1</th>\n",
       "      <td>Spice Elephant</td>\n",
       "      <td>Yes</td>\n",
       "      <td>No</td>\n",
       "      <td>4.1/5</td>\n",
       "      <td>787</td>\n",
       "      <td>Banashankari</td>\n",
       "      <td>Casual Dining</td>\n",
       "      <td>Chinese, North Indian, Thai</td>\n",
       "      <td>800</td>\n",
       "      <td>Buffet</td>\n",
       "      <td>Banashankari</td>\n",
       "    </tr>\n",
       "  </tbody>\n",
       "</table>\n",
       "</div>"
      ],
      "text/plain": [
       "             name online_order book_table   rate  votes      location  \\\n",
       "0           Jalsa          Yes        Yes  4.1/5    775  Banashankari   \n",
       "1  Spice Elephant          Yes         No  4.1/5    787  Banashankari   \n",
       "\n",
       "       rest_type                        cuisines approx_cost(for two people)  \\\n",
       "0  Casual Dining  North Indian, Mughlai, Chinese                         800   \n",
       "1  Casual Dining     Chinese, North Indian, Thai                         800   \n",
       "\n",
       "  listed_in(type) listed_in(city)  \n",
       "0          Buffet    Banashankari  \n",
       "1          Buffet    Banashankari  "
      ]
     },
     "execution_count": 6,
     "metadata": {},
     "output_type": "execute_result"
    }
   ],
   "source": [
    "zmt.head(2)"
   ]
  },
  {
   "cell_type": "code",
   "execution_count": 7,
   "id": "bcde7a85",
   "metadata": {
    "execution": {
     "iopub.execute_input": "2025-10-08T14:33:22.551977Z",
     "iopub.status.busy": "2025-10-08T14:33:22.551592Z",
     "iopub.status.idle": "2025-10-08T14:33:22.612554Z",
     "shell.execute_reply": "2025-10-08T14:33:22.611413Z"
    },
    "papermill": {
     "duration": 0.073029,
     "end_time": "2025-10-08T14:33:22.614767",
     "exception": false,
     "start_time": "2025-10-08T14:33:22.541738",
     "status": "completed"
    },
    "tags": []
   },
   "outputs": [
    {
     "name": "stdout",
     "output_type": "stream",
     "text": [
      "False    51609\n",
      "True       108\n",
      "Name: count, dtype: int64\n"
     ]
    }
   ],
   "source": [
    "print(zmt.duplicated().value_counts())"
   ]
  },
  {
   "cell_type": "markdown",
   "id": "c93a0a78",
   "metadata": {
    "papermill": {
     "duration": 0.008417,
     "end_time": "2025-10-08T14:33:22.632830",
     "exception": false,
     "start_time": "2025-10-08T14:33:22.624413",
     "status": "completed"
    },
    "tags": []
   },
   "source": [
    "# Renaming Columns"
   ]
  },
  {
   "cell_type": "code",
   "execution_count": 8,
   "id": "dddff61c",
   "metadata": {
    "execution": {
     "iopub.execute_input": "2025-10-08T14:33:22.652716Z",
     "iopub.status.busy": "2025-10-08T14:33:22.651747Z",
     "iopub.status.idle": "2025-10-08T14:33:22.659735Z",
     "shell.execute_reply": "2025-10-08T14:33:22.657948Z"
    },
    "papermill": {
     "duration": 0.020658,
     "end_time": "2025-10-08T14:33:22.661933",
     "exception": false,
     "start_time": "2025-10-08T14:33:22.641275",
     "status": "completed"
    },
    "tags": []
   },
   "outputs": [],
   "source": [
    "zmt.rename(columns={'name':'restaurants', 'rate': 'rating', 'cuisines':'food_type','listed_in(type)':'type', 'listed_in(city)':'city', 'approx_cost(for two people)':'cost'}, inplace=True)"
   ]
  },
  {
   "cell_type": "code",
   "execution_count": 9,
   "id": "4d122d30",
   "metadata": {
    "execution": {
     "iopub.execute_input": "2025-10-08T14:33:22.688919Z",
     "iopub.status.busy": "2025-10-08T14:33:22.688366Z",
     "iopub.status.idle": "2025-10-08T14:33:22.703964Z",
     "shell.execute_reply": "2025-10-08T14:33:22.702595Z"
    },
    "papermill": {
     "duration": 0.032567,
     "end_time": "2025-10-08T14:33:22.708553",
     "exception": false,
     "start_time": "2025-10-08T14:33:22.675986",
     "status": "completed"
    },
    "tags": []
   },
   "outputs": [
    {
     "data": {
      "text/html": [
       "<div>\n",
       "<style scoped>\n",
       "    .dataframe tbody tr th:only-of-type {\n",
       "        vertical-align: middle;\n",
       "    }\n",
       "\n",
       "    .dataframe tbody tr th {\n",
       "        vertical-align: top;\n",
       "    }\n",
       "\n",
       "    .dataframe thead th {\n",
       "        text-align: right;\n",
       "    }\n",
       "</style>\n",
       "<table border=\"1\" class=\"dataframe\">\n",
       "  <thead>\n",
       "    <tr style=\"text-align: right;\">\n",
       "      <th></th>\n",
       "      <th>restaurants</th>\n",
       "      <th>online_order</th>\n",
       "      <th>book_table</th>\n",
       "      <th>rating</th>\n",
       "      <th>votes</th>\n",
       "      <th>location</th>\n",
       "      <th>rest_type</th>\n",
       "      <th>food_type</th>\n",
       "      <th>cost</th>\n",
       "      <th>type</th>\n",
       "      <th>city</th>\n",
       "    </tr>\n",
       "  </thead>\n",
       "  <tbody>\n",
       "    <tr>\n",
       "      <th>0</th>\n",
       "      <td>Jalsa</td>\n",
       "      <td>Yes</td>\n",
       "      <td>Yes</td>\n",
       "      <td>4.1/5</td>\n",
       "      <td>775</td>\n",
       "      <td>Banashankari</td>\n",
       "      <td>Casual Dining</td>\n",
       "      <td>North Indian, Mughlai, Chinese</td>\n",
       "      <td>800</td>\n",
       "      <td>Buffet</td>\n",
       "      <td>Banashankari</td>\n",
       "    </tr>\n",
       "    <tr>\n",
       "      <th>1</th>\n",
       "      <td>Spice Elephant</td>\n",
       "      <td>Yes</td>\n",
       "      <td>No</td>\n",
       "      <td>4.1/5</td>\n",
       "      <td>787</td>\n",
       "      <td>Banashankari</td>\n",
       "      <td>Casual Dining</td>\n",
       "      <td>Chinese, North Indian, Thai</td>\n",
       "      <td>800</td>\n",
       "      <td>Buffet</td>\n",
       "      <td>Banashankari</td>\n",
       "    </tr>\n",
       "  </tbody>\n",
       "</table>\n",
       "</div>"
      ],
      "text/plain": [
       "      restaurants online_order book_table rating  votes      location  \\\n",
       "0           Jalsa          Yes        Yes  4.1/5    775  Banashankari   \n",
       "1  Spice Elephant          Yes         No  4.1/5    787  Banashankari   \n",
       "\n",
       "       rest_type                       food_type cost    type          city  \n",
       "0  Casual Dining  North Indian, Mughlai, Chinese  800  Buffet  Banashankari  \n",
       "1  Casual Dining     Chinese, North Indian, Thai  800  Buffet  Banashankari  "
      ]
     },
     "execution_count": 9,
     "metadata": {},
     "output_type": "execute_result"
    }
   ],
   "source": [
    "zmt.head(2)"
   ]
  },
  {
   "cell_type": "markdown",
   "id": "82303e62",
   "metadata": {
    "papermill": {
     "duration": 0.011344,
     "end_time": "2025-10-08T14:33:22.730737",
     "exception": false,
     "start_time": "2025-10-08T14:33:22.719393",
     "status": "completed"
    },
    "tags": []
   },
   "source": [
    "# Dropping NaN values"
   ]
  },
  {
   "cell_type": "code",
   "execution_count": 10,
   "id": "28b315ec",
   "metadata": {
    "execution": {
     "iopub.execute_input": "2025-10-08T14:33:22.752403Z",
     "iopub.status.busy": "2025-10-08T14:33:22.751997Z",
     "iopub.status.idle": "2025-10-08T14:33:22.793764Z",
     "shell.execute_reply": "2025-10-08T14:33:22.792519Z"
    },
    "papermill": {
     "duration": 0.076044,
     "end_time": "2025-10-08T14:33:22.817389",
     "exception": false,
     "start_time": "2025-10-08T14:33:22.741345",
     "status": "completed"
    },
    "tags": []
   },
   "outputs": [
    {
     "data": {
      "text/plain": [
       "restaurants        0\n",
       "online_order       0\n",
       "book_table         0\n",
       "rating          7775\n",
       "votes              0\n",
       "location          21\n",
       "rest_type        227\n",
       "food_type         45\n",
       "cost             346\n",
       "type               0\n",
       "city               0\n",
       "dtype: int64"
      ]
     },
     "execution_count": 10,
     "metadata": {},
     "output_type": "execute_result"
    }
   ],
   "source": [
    "zmt.isnull().sum()"
   ]
  },
  {
   "cell_type": "code",
   "execution_count": 11,
   "id": "279383ae",
   "metadata": {
    "execution": {
     "iopub.execute_input": "2025-10-08T14:33:22.908899Z",
     "iopub.status.busy": "2025-10-08T14:33:22.908530Z",
     "iopub.status.idle": "2025-10-08T14:33:22.948705Z",
     "shell.execute_reply": "2025-10-08T14:33:22.947222Z"
    },
    "papermill": {
     "duration": 0.053111,
     "end_time": "2025-10-08T14:33:22.951008",
     "exception": false,
     "start_time": "2025-10-08T14:33:22.897897",
     "status": "completed"
    },
    "tags": []
   },
   "outputs": [],
   "source": [
    "zmt.dropna(inplace=True)"
   ]
  },
  {
   "cell_type": "markdown",
   "id": "5d4fdacd",
   "metadata": {
    "papermill": {
     "duration": 0.008316,
     "end_time": "2025-10-08T14:33:22.970064",
     "exception": false,
     "start_time": "2025-10-08T14:33:22.961748",
     "status": "completed"
    },
    "tags": []
   },
   "source": [
    "# Cleaning Individual Columns"
   ]
  },
  {
   "cell_type": "markdown",
   "id": "bf1e0b16",
   "metadata": {
    "papermill": {
     "duration": 0.008353,
     "end_time": "2025-10-08T14:33:22.987133",
     "exception": false,
     "start_time": "2025-10-08T14:33:22.978780",
     "status": "completed"
    },
    "tags": []
   },
   "source": [
    "**Columns : Restaurant**"
   ]
  },
  {
   "cell_type": "code",
   "execution_count": 12,
   "id": "06c1e2ea",
   "metadata": {
    "execution": {
     "iopub.execute_input": "2025-10-08T14:33:23.006728Z",
     "iopub.status.busy": "2025-10-08T14:33:23.006378Z",
     "iopub.status.idle": "2025-10-08T14:33:23.053505Z",
     "shell.execute_reply": "2025-10-08T14:33:23.052176Z"
    },
    "papermill": {
     "duration": 0.058562,
     "end_time": "2025-10-08T14:33:23.055399",
     "exception": false,
     "start_time": "2025-10-08T14:33:22.996837",
     "status": "completed"
    },
    "tags": []
   },
   "outputs": [
    {
     "data": {
      "text/html": [
       "<div>\n",
       "<style scoped>\n",
       "    .dataframe tbody tr th:only-of-type {\n",
       "        vertical-align: middle;\n",
       "    }\n",
       "\n",
       "    .dataframe tbody tr th {\n",
       "        vertical-align: top;\n",
       "    }\n",
       "\n",
       "    .dataframe thead th {\n",
       "        text-align: right;\n",
       "    }\n",
       "</style>\n",
       "<table border=\"1\" class=\"dataframe\">\n",
       "  <thead>\n",
       "    <tr style=\"text-align: right;\">\n",
       "      <th></th>\n",
       "      <th>online_order</th>\n",
       "      <th>book_table</th>\n",
       "      <th>rating</th>\n",
       "      <th>votes</th>\n",
       "      <th>location</th>\n",
       "      <th>rest_type</th>\n",
       "      <th>food_type</th>\n",
       "      <th>cost</th>\n",
       "      <th>type</th>\n",
       "      <th>city</th>\n",
       "    </tr>\n",
       "    <tr>\n",
       "      <th>restaurants</th>\n",
       "      <th></th>\n",
       "      <th></th>\n",
       "      <th></th>\n",
       "      <th></th>\n",
       "      <th></th>\n",
       "      <th></th>\n",
       "      <th></th>\n",
       "      <th></th>\n",
       "      <th></th>\n",
       "      <th></th>\n",
       "    </tr>\n",
       "  </thead>\n",
       "  <tbody>\n",
       "    <tr>\n",
       "      <th>#FeelTheROLL</th>\n",
       "      <td>2</td>\n",
       "      <td>2</td>\n",
       "      <td>2</td>\n",
       "      <td>2</td>\n",
       "      <td>2</td>\n",
       "      <td>2</td>\n",
       "      <td>2</td>\n",
       "      <td>2</td>\n",
       "      <td>2</td>\n",
       "      <td>2</td>\n",
       "    </tr>\n",
       "    <tr>\n",
       "      <th>#L-81 Cafe</th>\n",
       "      <td>9</td>\n",
       "      <td>9</td>\n",
       "      <td>9</td>\n",
       "      <td>9</td>\n",
       "      <td>9</td>\n",
       "      <td>9</td>\n",
       "      <td>9</td>\n",
       "      <td>9</td>\n",
       "      <td>9</td>\n",
       "      <td>9</td>\n",
       "    </tr>\n",
       "    <tr>\n",
       "      <th>#refuel</th>\n",
       "      <td>3</td>\n",
       "      <td>3</td>\n",
       "      <td>3</td>\n",
       "      <td>3</td>\n",
       "      <td>3</td>\n",
       "      <td>3</td>\n",
       "      <td>3</td>\n",
       "      <td>3</td>\n",
       "      <td>3</td>\n",
       "      <td>3</td>\n",
       "    </tr>\n",
       "    <tr>\n",
       "      <th>1000 B.C</th>\n",
       "      <td>6</td>\n",
       "      <td>6</td>\n",
       "      <td>6</td>\n",
       "      <td>6</td>\n",
       "      <td>6</td>\n",
       "      <td>6</td>\n",
       "      <td>6</td>\n",
       "      <td>6</td>\n",
       "      <td>6</td>\n",
       "      <td>6</td>\n",
       "    </tr>\n",
       "    <tr>\n",
       "      <th>100ÃÂÃÂÃÂÃÂÃÂÃÂÃÂÃÂ°C</th>\n",
       "      <td>3</td>\n",
       "      <td>3</td>\n",
       "      <td>3</td>\n",
       "      <td>3</td>\n",
       "      <td>3</td>\n",
       "      <td>3</td>\n",
       "      <td>3</td>\n",
       "      <td>3</td>\n",
       "      <td>3</td>\n",
       "      <td>3</td>\n",
       "    </tr>\n",
       "  </tbody>\n",
       "</table>\n",
       "</div>"
      ],
      "text/plain": [
       "                                      online_order  book_table  rating  votes  \\\n",
       "restaurants                                                                     \n",
       "#FeelTheROLL                                     2           2       2      2   \n",
       "#L-81 Cafe                                       9           9       9      9   \n",
       "#refuel                                          3           3       3      3   \n",
       "1000 B.C                                         6           6       6      6   \n",
       "100ÃÂÃÂÃÂÃÂÃÂÃÂÃÂÃÂ°C             3           3       3      3   \n",
       "\n",
       "                                      location  rest_type  food_type  cost  \\\n",
       "restaurants                                                                  \n",
       "#FeelTheROLL                                 2          2          2     2   \n",
       "#L-81 Cafe                                   9          9          9     9   \n",
       "#refuel                                      3          3          3     3   \n",
       "1000 B.C                                     6          6          6     6   \n",
       "100ÃÂÃÂÃÂÃÂÃÂÃÂÃÂÃÂ°C         3          3          3     3   \n",
       "\n",
       "                                      type  city  \n",
       "restaurants                                       \n",
       "#FeelTheROLL                             2     2  \n",
       "#L-81 Cafe                               9     9  \n",
       "#refuel                                  3     3  \n",
       "1000 B.C                                 6     6  \n",
       "100ÃÂÃÂÃÂÃÂÃÂÃÂÃÂÃÂ°C     3     3  "
      ]
     },
     "execution_count": 12,
     "metadata": {},
     "output_type": "execute_result"
    }
   ],
   "source": [
    "zmt.groupby('restaurants').count().head()"
   ]
  },
  {
   "cell_type": "code",
   "execution_count": 13,
   "id": "89acd04b",
   "metadata": {
    "execution": {
     "iopub.execute_input": "2025-10-08T14:33:23.074077Z",
     "iopub.status.busy": "2025-10-08T14:33:23.073756Z",
     "iopub.status.idle": "2025-10-08T14:33:23.107329Z",
     "shell.execute_reply": "2025-10-08T14:33:23.106153Z"
    },
    "papermill": {
     "duration": 0.044932,
     "end_time": "2025-10-08T14:33:23.109190",
     "exception": false,
     "start_time": "2025-10-08T14:33:23.064258",
     "status": "completed"
    },
    "tags": []
   },
   "outputs": [],
   "source": [
    "zmt['restaurants']=zmt['restaurants'].str.replace('[Ãx][^A-Za-z]+', '', regex=True)"
   ]
  },
  {
   "cell_type": "code",
   "execution_count": 14,
   "id": "2207aee1",
   "metadata": {
    "execution": {
     "iopub.execute_input": "2025-10-08T14:33:23.128925Z",
     "iopub.status.busy": "2025-10-08T14:33:23.128542Z",
     "iopub.status.idle": "2025-10-08T14:33:23.172911Z",
     "shell.execute_reply": "2025-10-08T14:33:23.171673Z"
    },
    "papermill": {
     "duration": 0.05692,
     "end_time": "2025-10-08T14:33:23.174896",
     "exception": false,
     "start_time": "2025-10-08T14:33:23.117976",
     "status": "completed"
    },
    "tags": []
   },
   "outputs": [
    {
     "data": {
      "text/html": [
       "<div>\n",
       "<style scoped>\n",
       "    .dataframe tbody tr th:only-of-type {\n",
       "        vertical-align: middle;\n",
       "    }\n",
       "\n",
       "    .dataframe tbody tr th {\n",
       "        vertical-align: top;\n",
       "    }\n",
       "\n",
       "    .dataframe thead th {\n",
       "        text-align: right;\n",
       "    }\n",
       "</style>\n",
       "<table border=\"1\" class=\"dataframe\">\n",
       "  <thead>\n",
       "    <tr style=\"text-align: right;\">\n",
       "      <th></th>\n",
       "      <th>online_order</th>\n",
       "      <th>book_table</th>\n",
       "      <th>rating</th>\n",
       "      <th>votes</th>\n",
       "      <th>location</th>\n",
       "      <th>rest_type</th>\n",
       "      <th>food_type</th>\n",
       "      <th>cost</th>\n",
       "      <th>type</th>\n",
       "      <th>city</th>\n",
       "    </tr>\n",
       "    <tr>\n",
       "      <th>restaurants</th>\n",
       "      <th></th>\n",
       "      <th></th>\n",
       "      <th></th>\n",
       "      <th></th>\n",
       "      <th></th>\n",
       "      <th></th>\n",
       "      <th></th>\n",
       "      <th></th>\n",
       "      <th></th>\n",
       "      <th></th>\n",
       "    </tr>\n",
       "  </thead>\n",
       "  <tbody>\n",
       "    <tr>\n",
       "      <th>#FeelTheROLL</th>\n",
       "      <td>2</td>\n",
       "      <td>2</td>\n",
       "      <td>2</td>\n",
       "      <td>2</td>\n",
       "      <td>2</td>\n",
       "      <td>2</td>\n",
       "      <td>2</td>\n",
       "      <td>2</td>\n",
       "      <td>2</td>\n",
       "      <td>2</td>\n",
       "    </tr>\n",
       "    <tr>\n",
       "      <th>#L-81 Cafe</th>\n",
       "      <td>9</td>\n",
       "      <td>9</td>\n",
       "      <td>9</td>\n",
       "      <td>9</td>\n",
       "      <td>9</td>\n",
       "      <td>9</td>\n",
       "      <td>9</td>\n",
       "      <td>9</td>\n",
       "      <td>9</td>\n",
       "      <td>9</td>\n",
       "    </tr>\n",
       "    <tr>\n",
       "      <th>#refuel</th>\n",
       "      <td>3</td>\n",
       "      <td>3</td>\n",
       "      <td>3</td>\n",
       "      <td>3</td>\n",
       "      <td>3</td>\n",
       "      <td>3</td>\n",
       "      <td>3</td>\n",
       "      <td>3</td>\n",
       "      <td>3</td>\n",
       "      <td>3</td>\n",
       "    </tr>\n",
       "    <tr>\n",
       "      <th>1000 B.C</th>\n",
       "      <td>6</td>\n",
       "      <td>6</td>\n",
       "      <td>6</td>\n",
       "      <td>6</td>\n",
       "      <td>6</td>\n",
       "      <td>6</td>\n",
       "      <td>6</td>\n",
       "      <td>6</td>\n",
       "      <td>6</td>\n",
       "      <td>6</td>\n",
       "    </tr>\n",
       "    <tr>\n",
       "      <th>100C</th>\n",
       "      <td>3</td>\n",
       "      <td>3</td>\n",
       "      <td>3</td>\n",
       "      <td>3</td>\n",
       "      <td>3</td>\n",
       "      <td>3</td>\n",
       "      <td>3</td>\n",
       "      <td>3</td>\n",
       "      <td>3</td>\n",
       "      <td>3</td>\n",
       "    </tr>\n",
       "  </tbody>\n",
       "</table>\n",
       "</div>"
      ],
      "text/plain": [
       "              online_order  book_table  rating  votes  location  rest_type  \\\n",
       "restaurants                                                                  \n",
       "#FeelTheROLL             2           2       2      2         2          2   \n",
       "#L-81 Cafe               9           9       9      9         9          9   \n",
       "#refuel                  3           3       3      3         3          3   \n",
       "1000 B.C                 6           6       6      6         6          6   \n",
       "100C                     3           3       3      3         3          3   \n",
       "\n",
       "              food_type  cost  type  city  \n",
       "restaurants                                \n",
       "#FeelTheROLL          2     2     2     2  \n",
       "#L-81 Cafe            9     9     9     9  \n",
       "#refuel               3     3     3     3  \n",
       "1000 B.C              6     6     6     6  \n",
       "100C                  3     3     3     3  "
      ]
     },
     "execution_count": 14,
     "metadata": {},
     "output_type": "execute_result"
    }
   ],
   "source": [
    "zmt.groupby('restaurants').count().head()"
   ]
  },
  {
   "cell_type": "code",
   "execution_count": 15,
   "id": "487e76be",
   "metadata": {
    "execution": {
     "iopub.execute_input": "2025-10-08T14:33:23.194966Z",
     "iopub.status.busy": "2025-10-08T14:33:23.194594Z",
     "iopub.status.idle": "2025-10-08T14:33:23.222061Z",
     "shell.execute_reply": "2025-10-08T14:33:23.220837Z"
    },
    "papermill": {
     "duration": 0.039581,
     "end_time": "2025-10-08T14:33:23.224027",
     "exception": false,
     "start_time": "2025-10-08T14:33:23.184446",
     "status": "completed"
    },
    "tags": []
   },
   "outputs": [],
   "source": [
    "zmt['restaurants']=zmt['restaurants'].str.replace('Caf-|Caf', 'Cafe', regex=True)"
   ]
  },
  {
   "cell_type": "markdown",
   "id": "849fa676",
   "metadata": {
    "papermill": {
     "duration": 0.008789,
     "end_time": "2025-10-08T14:33:23.241819",
     "exception": false,
     "start_time": "2025-10-08T14:33:23.233030",
     "status": "completed"
    },
    "tags": []
   },
   "source": [
    "**Column : 'online_order'**"
   ]
  },
  {
   "cell_type": "code",
   "execution_count": 16,
   "id": "79d1f466",
   "metadata": {
    "execution": {
     "iopub.execute_input": "2025-10-08T14:33:23.262997Z",
     "iopub.status.busy": "2025-10-08T14:33:23.262339Z",
     "iopub.status.idle": "2025-10-08T14:33:23.271834Z",
     "shell.execute_reply": "2025-10-08T14:33:23.270866Z"
    },
    "papermill": {
     "duration": 0.022861,
     "end_time": "2025-10-08T14:33:23.273635",
     "exception": false,
     "start_time": "2025-10-08T14:33:23.250774",
     "status": "completed"
    },
    "tags": []
   },
   "outputs": [
    {
     "data": {
      "text/plain": [
       "array(['Yes', 'No'], dtype=object)"
      ]
     },
     "execution_count": 16,
     "metadata": {},
     "output_type": "execute_result"
    }
   ],
   "source": [
    "zmt['online_order'].unique()"
   ]
  },
  {
   "cell_type": "markdown",
   "id": "a184df06",
   "metadata": {
    "papermill": {
     "duration": 0.008924,
     "end_time": "2025-10-08T14:33:23.292510",
     "exception": false,
     "start_time": "2025-10-08T14:33:23.283586",
     "status": "completed"
    },
    "tags": []
   },
   "source": [
    "**Column :'book_table'**"
   ]
  },
  {
   "cell_type": "code",
   "execution_count": 17,
   "id": "82bf61d4",
   "metadata": {
    "execution": {
     "iopub.execute_input": "2025-10-08T14:33:23.316093Z",
     "iopub.status.busy": "2025-10-08T14:33:23.315729Z",
     "iopub.status.idle": "2025-10-08T14:33:23.325085Z",
     "shell.execute_reply": "2025-10-08T14:33:23.323978Z"
    },
    "papermill": {
     "duration": 0.022525,
     "end_time": "2025-10-08T14:33:23.327563",
     "exception": false,
     "start_time": "2025-10-08T14:33:23.305038",
     "status": "completed"
    },
    "tags": []
   },
   "outputs": [
    {
     "data": {
      "text/plain": [
       "array(['Yes', 'No'], dtype=object)"
      ]
     },
     "execution_count": 17,
     "metadata": {},
     "output_type": "execute_result"
    }
   ],
   "source": [
    "zmt['book_table'].unique()"
   ]
  },
  {
   "cell_type": "markdown",
   "id": "f2d07506",
   "metadata": {
    "papermill": {
     "duration": 0.009487,
     "end_time": "2025-10-08T14:33:23.346288",
     "exception": false,
     "start_time": "2025-10-08T14:33:23.336801",
     "status": "completed"
    },
    "tags": []
   },
   "source": [
    "**Column : 'rating'**"
   ]
  },
  {
   "cell_type": "code",
   "execution_count": 18,
   "id": "1e6f7ac5",
   "metadata": {
    "execution": {
     "iopub.execute_input": "2025-10-08T14:33:23.367003Z",
     "iopub.status.busy": "2025-10-08T14:33:23.366637Z",
     "iopub.status.idle": "2025-10-08T14:33:23.375460Z",
     "shell.execute_reply": "2025-10-08T14:33:23.374402Z"
    },
    "papermill": {
     "duration": 0.021051,
     "end_time": "2025-10-08T14:33:23.377510",
     "exception": false,
     "start_time": "2025-10-08T14:33:23.356459",
     "status": "completed"
    },
    "tags": []
   },
   "outputs": [
    {
     "data": {
      "text/plain": [
       "array(['4.1/5', '3.8/5', '3.7/5', '3.6/5', '4.6/5', '4.0/5', '4.2/5',\n",
       "       '3.9/5', '3.1/5', '3.0/5', '3.2/5', '3.3/5', '2.8/5', '4.4/5',\n",
       "       '4.3/5', 'NEW', '2.9/5', '3.5/5', '2.6/5', '3.8 /5', '3.4/5',\n",
       "       '4.5/5', '2.5/5', '2.7/5', '4.7/5', '2.4/5', '2.2/5', '2.3/5',\n",
       "       '3.4 /5', '-', '3.6 /5', '4.8/5', '3.9 /5', '4.2 /5', '4.0 /5',\n",
       "       '4.1 /5', '3.7 /5', '3.1 /5', '2.9 /5', '3.3 /5', '2.8 /5',\n",
       "       '3.5 /5', '2.7 /5', '2.5 /5', '3.2 /5', '2.6 /5', '4.5 /5',\n",
       "       '4.3 /5', '4.4 /5', '4.9/5', '2.1/5', '2.0/5', '1.8/5', '4.6 /5',\n",
       "       '4.9 /5', '3.0 /5', '4.8 /5', '2.3 /5', '4.7 /5', '2.4 /5',\n",
       "       '2.1 /5', '2.2 /5', '2.0 /5', '1.8 /5'], dtype=object)"
      ]
     },
     "execution_count": 18,
     "metadata": {},
     "output_type": "execute_result"
    }
   ],
   "source": [
    "zmt['rating'].unique()"
   ]
  },
  {
   "cell_type": "code",
   "execution_count": 19,
   "id": "555d25ac",
   "metadata": {
    "execution": {
     "iopub.execute_input": "2025-10-08T14:33:23.397718Z",
     "iopub.status.busy": "2025-10-08T14:33:23.397374Z",
     "iopub.status.idle": "2025-10-08T14:33:23.435260Z",
     "shell.execute_reply": "2025-10-08T14:33:23.433842Z"
    },
    "papermill": {
     "duration": 0.050647,
     "end_time": "2025-10-08T14:33:23.437286",
     "exception": false,
     "start_time": "2025-10-08T14:33:23.386639",
     "status": "completed"
    },
    "tags": []
   },
   "outputs": [],
   "source": [
    "replace= lambda x:x.replace('/5','')\n",
    "l=[]\n",
    "for val in map (replace, zmt['rating']):\n",
    "    if val!= 'NEW' and val!='-':\n",
    "        var=float(val)\n",
    "    l.append(var)\n",
    "zmt['rating']=l"
   ]
  },
  {
   "cell_type": "code",
   "execution_count": 20,
   "id": "a6398106",
   "metadata": {
    "execution": {
     "iopub.execute_input": "2025-10-08T14:33:23.458212Z",
     "iopub.status.busy": "2025-10-08T14:33:23.457831Z",
     "iopub.status.idle": "2025-10-08T14:33:23.467410Z",
     "shell.execute_reply": "2025-10-08T14:33:23.466072Z"
    },
    "papermill": {
     "duration": 0.022672,
     "end_time": "2025-10-08T14:33:23.469126",
     "exception": false,
     "start_time": "2025-10-08T14:33:23.446454",
     "status": "completed"
    },
    "tags": []
   },
   "outputs": [
    {
     "data": {
      "text/plain": [
       "array([4.1, 3.8, 3.7, 3.6, 4.6, 4. , 4.2, 3.9, 3.1, 3. , 3.2, 3.3, 2.8,\n",
       "       4.4, 4.3, 2.9, 3.5, 2.6, 3.4, 4.5, 2.5, 2.7, 4.7, 2.4, 2.2, 2.3,\n",
       "       4.8, 4.9, 2.1, 2. , 1.8])"
      ]
     },
     "execution_count": 20,
     "metadata": {},
     "output_type": "execute_result"
    }
   ],
   "source": [
    "zmt['rating'].unique()"
   ]
  },
  {
   "cell_type": "code",
   "execution_count": 21,
   "id": "0b16ed6f",
   "metadata": {
    "execution": {
     "iopub.execute_input": "2025-10-08T14:33:23.492322Z",
     "iopub.status.busy": "2025-10-08T14:33:23.491951Z",
     "iopub.status.idle": "2025-10-08T14:33:23.499737Z",
     "shell.execute_reply": "2025-10-08T14:33:23.498557Z"
    },
    "papermill": {
     "duration": 0.022021,
     "end_time": "2025-10-08T14:33:23.501871",
     "exception": false,
     "start_time": "2025-10-08T14:33:23.479850",
     "status": "completed"
    },
    "tags": []
   },
   "outputs": [
    {
     "data": {
      "text/plain": [
       "dtype('float64')"
      ]
     },
     "execution_count": 21,
     "metadata": {},
     "output_type": "execute_result"
    }
   ],
   "source": [
    "zmt['rating'].dtype"
   ]
  },
  {
   "cell_type": "markdown",
   "id": "bb9b1b79",
   "metadata": {
    "papermill": {
     "duration": 0.010065,
     "end_time": "2025-10-08T14:33:23.525475",
     "exception": false,
     "start_time": "2025-10-08T14:33:23.515410",
     "status": "completed"
    },
    "tags": []
   },
   "source": [
    "**Column :'votes'**"
   ]
  },
  {
   "cell_type": "code",
   "execution_count": 22,
   "id": "9d212be1",
   "metadata": {
    "execution": {
     "iopub.execute_input": "2025-10-08T14:33:23.551535Z",
     "iopub.status.busy": "2025-10-08T14:33:23.551251Z",
     "iopub.status.idle": "2025-10-08T14:33:23.561126Z",
     "shell.execute_reply": "2025-10-08T14:33:23.559763Z"
    },
    "papermill": {
     "duration": 0.025221,
     "end_time": "2025-10-08T14:33:23.563094",
     "exception": false,
     "start_time": "2025-10-08T14:33:23.537873",
     "status": "completed"
    },
    "tags": []
   },
   "outputs": [
    {
     "data": {
      "text/plain": [
       "votes\n",
       "False    43533\n",
       "Name: count, dtype: int64"
      ]
     },
     "execution_count": 22,
     "metadata": {},
     "output_type": "execute_result"
    }
   ],
   "source": [
    "zmt['votes'].isnull().value_counts()"
   ]
  },
  {
   "cell_type": "markdown",
   "id": "37440d60",
   "metadata": {
    "papermill": {
     "duration": 0.010071,
     "end_time": "2025-10-08T14:33:23.583997",
     "exception": false,
     "start_time": "2025-10-08T14:33:23.573926",
     "status": "completed"
    },
    "tags": []
   },
   "source": [
    "**column :'location'**"
   ]
  },
  {
   "cell_type": "code",
   "execution_count": 23,
   "id": "1cf4a64d",
   "metadata": {
    "execution": {
     "iopub.execute_input": "2025-10-08T14:33:23.604975Z",
     "iopub.status.busy": "2025-10-08T14:33:23.604589Z",
     "iopub.status.idle": "2025-10-08T14:33:23.613731Z",
     "shell.execute_reply": "2025-10-08T14:33:23.612709Z"
    },
    "papermill": {
     "duration": 0.021495,
     "end_time": "2025-10-08T14:33:23.615541",
     "exception": false,
     "start_time": "2025-10-08T14:33:23.594046",
     "status": "completed"
    },
    "tags": []
   },
   "outputs": [
    {
     "data": {
      "text/plain": [
       "array(['Banashankari', 'Basavanagudi', 'Mysore Road', 'Jayanagar',\n",
       "       'Kumaraswamy Layout', 'Rajarajeshwari Nagar', 'Vijay Nagar',\n",
       "       'Uttarahalli', 'JP Nagar', 'South Bangalore', 'City Market',\n",
       "       'Bannerghatta Road', 'BTM', 'Kanakapura Road', 'Bommanahalli',\n",
       "       'CV Raman Nagar', 'Electronic City', 'Wilson Garden',\n",
       "       'Shanti Nagar', 'Koramangala 5th Block', 'Richmond Road', 'HSR',\n",
       "       'Marathahalli', 'Koramangala 7th Block', 'Bellandur',\n",
       "       'Sarjapur Road', 'Whitefield', 'East Bangalore',\n",
       "       'Old Airport Road', 'Indiranagar', 'Koramangala 1st Block',\n",
       "       'Frazer Town', 'MG Road', 'Brigade Road', 'Lavelle Road',\n",
       "       'Church Street', 'Ulsoor', 'Residency Road', 'Shivajinagar',\n",
       "       'Infantry Road', 'St. Marks Road', 'Cunningham Road',\n",
       "       'Race Course Road', 'Commercial Street', 'Vasanth Nagar', 'Domlur',\n",
       "       'Koramangala 8th Block', 'Ejipura', 'Jeevan Bhima Nagar',\n",
       "       'Old Madras Road', 'Seshadripuram', 'Kammanahalli',\n",
       "       'Koramangala 6th Block', 'Majestic', 'Langford Town',\n",
       "       'Central Bangalore', 'Sanjay Nagar', 'Brookefield',\n",
       "       'ITPL Main Road, Whitefield', 'Varthur Main Road, Whitefield',\n",
       "       'Koramangala 2nd Block', 'Koramangala 3rd Block',\n",
       "       'Koramangala 4th Block', 'Koramangala', 'Hosur Road',\n",
       "       'Rajajinagar', 'RT Nagar', 'Banaswadi', 'North Bangalore',\n",
       "       'Nagawara', 'Hennur', 'Kalyan Nagar', 'HBR Layout',\n",
       "       'Rammurthy Nagar', 'Thippasandra', 'Kaggadasapura', 'Hebbal',\n",
       "       'Kengeri', 'New BEL Road', 'Sankey Road', 'Malleshwaram',\n",
       "       'Sadashiv Nagar', 'Basaveshwara Nagar', 'Yeshwantpur',\n",
       "       'West Bangalore', 'Magadi Road', 'Yelahanka', 'Sahakara Nagar',\n",
       "       'Jalahalli', 'Nagarbhavi', 'Peenya', 'KR Puram'], dtype=object)"
      ]
     },
     "execution_count": 23,
     "metadata": {},
     "output_type": "execute_result"
    }
   ],
   "source": [
    "zmt['location'].unique()"
   ]
  },
  {
   "cell_type": "markdown",
   "id": "9b7c4bf6",
   "metadata": {
    "papermill": {
     "duration": 0.009919,
     "end_time": "2025-10-08T14:33:23.635607",
     "exception": false,
     "start_time": "2025-10-08T14:33:23.625688",
     "status": "completed"
    },
    "tags": []
   },
   "source": [
    "**Cloumn :'rest_type' and 'food_type'**"
   ]
  },
  {
   "cell_type": "code",
   "execution_count": 24,
   "id": "8e1733fc",
   "metadata": {
    "execution": {
     "iopub.execute_input": "2025-10-08T14:33:23.656728Z",
     "iopub.status.busy": "2025-10-08T14:33:23.656342Z",
     "iopub.status.idle": "2025-10-08T14:33:23.669910Z",
     "shell.execute_reply": "2025-10-08T14:33:23.668730Z"
    },
    "papermill": {
     "duration": 0.026504,
     "end_time": "2025-10-08T14:33:23.671786",
     "exception": false,
     "start_time": "2025-10-08T14:33:23.645282",
     "status": "completed"
    },
    "tags": []
   },
   "outputs": [
    {
     "data": {
      "text/plain": [
       "(array(['Casual Dining', 'Cafe, Casual Dining', 'Quick Bites',\n",
       "        'Casual Dining, Cafe', 'Cafe', 'Quick Bites, Cafe',\n",
       "        'Cafe, Quick Bites', 'Delivery', 'Mess', 'Dessert Parlor',\n",
       "        'Bakery, Dessert Parlor', 'Pub', 'Bakery', 'Takeaway, Delivery',\n",
       "        'Fine Dining', 'Beverage Shop', 'Sweet Shop', 'Bar',\n",
       "        'Dessert Parlor, Sweet Shop', 'Bakery, Quick Bites',\n",
       "        'Sweet Shop, Quick Bites', 'Kiosk', 'Food Truck',\n",
       "        'Quick Bites, Dessert Parlor', 'Beverage Shop, Quick Bites',\n",
       "        'Beverage Shop, Dessert Parlor', 'Takeaway', 'Pub, Casual Dining',\n",
       "        'Casual Dining, Bar', 'Dessert Parlor, Beverage Shop',\n",
       "        'Quick Bites, Bakery', 'Microbrewery, Casual Dining', 'Lounge',\n",
       "        'Bar, Casual Dining', 'Food Court', 'Cafe, Bakery', 'Dhaba',\n",
       "        'Quick Bites, Sweet Shop', 'Microbrewery',\n",
       "        'Food Court, Quick Bites', 'Quick Bites, Beverage Shop',\n",
       "        'Pub, Bar', 'Casual Dining, Pub', 'Lounge, Bar',\n",
       "        'Dessert Parlor, Quick Bites', 'Food Court, Dessert Parlor',\n",
       "        'Casual Dining, Sweet Shop', 'Food Court, Casual Dining',\n",
       "        'Casual Dining, Microbrewery', 'Lounge, Casual Dining',\n",
       "        'Cafe, Food Court', 'Beverage Shop, Cafe', 'Cafe, Dessert Parlor',\n",
       "        'Dessert Parlor, Cafe', 'Dessert Parlor, Bakery',\n",
       "        'Microbrewery, Pub', 'Bakery, Food Court', 'Club',\n",
       "        'Quick Bites, Food Court', 'Bakery, Cafe', 'Pub, Cafe',\n",
       "        'Casual Dining, Irani Cafee', 'Fine Dining, Lounge',\n",
       "        'Bar, Quick Bites', 'Confectionery', 'Pub, Microbrewery',\n",
       "        'Microbrewery, Lounge', 'Fine Dining, Microbrewery',\n",
       "        'Fine Dining, Bar', 'Dessert Parlor, Kiosk', 'Bhojanalya',\n",
       "        'Casual Dining, Quick Bites', 'Cafe, Bar', 'Casual Dining, Lounge',\n",
       "        'Bakery, Beverage Shop', 'Microbrewery, Bar', 'Cafe, Lounge',\n",
       "        'Bar, Pub', 'Lounge, Cafe', 'Club, Casual Dining',\n",
       "        'Quick Bites, Mess', 'Quick Bites, Meat Shop',\n",
       "        'Quick Bites, Kiosk', 'Lounge, Microbrewery',\n",
       "        'Food Court, Beverage Shop', 'Dessert Parlor, Food Court',\n",
       "        'Bar, Lounge'], dtype=object),\n",
       " rest_type\n",
       " False    43533\n",
       " Name: count, dtype: int64)"
      ]
     },
     "execution_count": 24,
     "metadata": {},
     "output_type": "execute_result"
    }
   ],
   "source": [
    "zmt['rest_type'].unique(),zmt.rest_type.isnull().value_counts()"
   ]
  },
  {
   "cell_type": "code",
   "execution_count": 25,
   "id": "51ed84e0",
   "metadata": {
    "execution": {
     "iopub.execute_input": "2025-10-08T14:33:23.695307Z",
     "iopub.status.busy": "2025-10-08T14:33:23.694491Z",
     "iopub.status.idle": "2025-10-08T14:33:23.709504Z",
     "shell.execute_reply": "2025-10-08T14:33:23.708449Z"
    },
    "papermill": {
     "duration": 0.028045,
     "end_time": "2025-10-08T14:33:23.711258",
     "exception": false,
     "start_time": "2025-10-08T14:33:23.683213",
     "status": "completed"
    },
    "tags": []
   },
   "outputs": [
    {
     "data": {
      "text/plain": [
       "(array(['North Indian, Mughlai, Chinese', 'Chinese, North Indian, Thai',\n",
       "        'Cafe, Mexican, Italian', ..., 'Tibetan, Nepalese',\n",
       "        'North Indian, Street Food, Biryani',\n",
       "        'North Indian, Chinese, Arabian, Momos'], dtype=object),\n",
       " food_type\n",
       " False    43533\n",
       " Name: count, dtype: int64)"
      ]
     },
     "execution_count": 25,
     "metadata": {},
     "output_type": "execute_result"
    }
   ],
   "source": [
    "zmt.food_type.unique(), zmt.food_type.isnull().value_counts()"
   ]
  },
  {
   "cell_type": "markdown",
   "id": "6cc721d2",
   "metadata": {
    "papermill": {
     "duration": 0.009303,
     "end_time": "2025-10-08T14:33:23.730512",
     "exception": false,
     "start_time": "2025-10-08T14:33:23.721209",
     "status": "completed"
    },
    "tags": []
   },
   "source": [
    "**Column :'cost'**"
   ]
  },
  {
   "cell_type": "code",
   "execution_count": 26,
   "id": "e15cd165",
   "metadata": {
    "execution": {
     "iopub.execute_input": "2025-10-08T14:33:23.752591Z",
     "iopub.status.busy": "2025-10-08T14:33:23.752273Z",
     "iopub.status.idle": "2025-10-08T14:33:23.761947Z",
     "shell.execute_reply": "2025-10-08T14:33:23.760724Z"
    },
    "papermill": {
     "duration": 0.022567,
     "end_time": "2025-10-08T14:33:23.764012",
     "exception": false,
     "start_time": "2025-10-08T14:33:23.741445",
     "status": "completed"
    },
    "tags": []
   },
   "outputs": [
    {
     "data": {
      "text/plain": [
       "array(['800', '300', '600', '700', '550', '500', '450', '650', '400',\n",
       "       '900', '200', '750', '150', '850', '100', '1,200', '350', '250',\n",
       "       '950', '1,000', '1,500', '1,300', '199', '80', '1,100', '160',\n",
       "       '1,600', '230', '130', '1,700', '1,400', '1,350', '2,200', '2,000',\n",
       "       '1,800', '1,900', '180', '330', '2,500', '2,100', '3,000', '2,800',\n",
       "       '3,400', '50', '40', '1,250', '3,500', '4,000', '2,400', '2,600',\n",
       "       '1,450', '70', '3,200', '560', '240', '360', '6,000', '1,050',\n",
       "       '2,300', '4,100', '120', '5,000', '3,700', '1,650', '2,700',\n",
       "       '4,500'], dtype=object)"
      ]
     },
     "execution_count": 26,
     "metadata": {},
     "output_type": "execute_result"
    }
   ],
   "source": [
    "zmt['cost'].unique()"
   ]
  },
  {
   "cell_type": "code",
   "execution_count": 27,
   "id": "66d60840",
   "metadata": {
    "execution": {
     "iopub.execute_input": "2025-10-08T14:33:23.788270Z",
     "iopub.status.busy": "2025-10-08T14:33:23.787944Z",
     "iopub.status.idle": "2025-10-08T14:33:23.808190Z",
     "shell.execute_reply": "2025-10-08T14:33:23.806885Z"
    },
    "papermill": {
     "duration": 0.034784,
     "end_time": "2025-10-08T14:33:23.810394",
     "exception": false,
     "start_time": "2025-10-08T14:33:23.775610",
     "status": "completed"
    },
    "tags": []
   },
   "outputs": [],
   "source": [
    "zmt.cost = zmt.cost.apply(lambda x:x.replace(\",\",\"\")).astype(int)"
   ]
  },
  {
   "cell_type": "code",
   "execution_count": 28,
   "id": "58beae7d",
   "metadata": {
    "execution": {
     "iopub.execute_input": "2025-10-08T14:33:23.833780Z",
     "iopub.status.busy": "2025-10-08T14:33:23.833412Z",
     "iopub.status.idle": "2025-10-08T14:33:23.841145Z",
     "shell.execute_reply": "2025-10-08T14:33:23.840130Z"
    },
    "papermill": {
     "duration": 0.021554,
     "end_time": "2025-10-08T14:33:23.843004",
     "exception": false,
     "start_time": "2025-10-08T14:33:23.821450",
     "status": "completed"
    },
    "tags": []
   },
   "outputs": [
    {
     "data": {
      "text/plain": [
       "(array([ 800,  300,  600,  700,  550,  500,  450,  650,  400,  900,  200,\n",
       "         750,  150,  850,  100, 1200,  350,  250,  950, 1000, 1500, 1300,\n",
       "         199,   80, 1100,  160, 1600,  230,  130, 1700, 1400, 1350, 2200,\n",
       "        2000, 1800, 1900,  180,  330, 2500, 2100, 3000, 2800, 3400,   50,\n",
       "          40, 1250, 3500, 4000, 2400, 2600, 1450,   70, 3200,  560,  240,\n",
       "         360, 6000, 1050, 2300, 4100,  120, 5000, 3700, 1650, 2700, 4500]),\n",
       " dtype('int64'))"
      ]
     },
     "execution_count": 28,
     "metadata": {},
     "output_type": "execute_result"
    }
   ],
   "source": [
    "zmt.cost.unique(),zmt.cost.dtype"
   ]
  },
  {
   "cell_type": "markdown",
   "id": "10fd72f6",
   "metadata": {
    "papermill": {
     "duration": 0.010886,
     "end_time": "2025-10-08T14:33:23.863834",
     "exception": false,
     "start_time": "2025-10-08T14:33:23.852948",
     "status": "completed"
    },
    "tags": []
   },
   "source": [
    "**Column :'type'**"
   ]
  },
  {
   "cell_type": "code",
   "execution_count": 29,
   "id": "87cb87b0",
   "metadata": {
    "execution": {
     "iopub.execute_input": "2025-10-08T14:33:23.886770Z",
     "iopub.status.busy": "2025-10-08T14:33:23.886416Z",
     "iopub.status.idle": "2025-10-08T14:33:23.895381Z",
     "shell.execute_reply": "2025-10-08T14:33:23.894162Z"
    },
    "papermill": {
     "duration": 0.022865,
     "end_time": "2025-10-08T14:33:23.897324",
     "exception": false,
     "start_time": "2025-10-08T14:33:23.874459",
     "status": "completed"
    },
    "tags": []
   },
   "outputs": [
    {
     "data": {
      "text/plain": [
       "array(['Buffet', 'Cafes', 'Delivery', 'Desserts', 'Dine-out',\n",
       "       'Drinks & nightlife', 'Pubs and bars'], dtype=object)"
      ]
     },
     "execution_count": 29,
     "metadata": {},
     "output_type": "execute_result"
    }
   ],
   "source": [
    "zmt.type.unique()"
   ]
  },
  {
   "cell_type": "markdown",
   "id": "d680d80e",
   "metadata": {
    "papermill": {
     "duration": 0.009964,
     "end_time": "2025-10-08T14:33:23.918534",
     "exception": false,
     "start_time": "2025-10-08T14:33:23.908570",
     "status": "completed"
    },
    "tags": []
   },
   "source": [
    "**Column: 'city'**"
   ]
  },
  {
   "cell_type": "code",
   "execution_count": 30,
   "id": "24f5a578",
   "metadata": {
    "execution": {
     "iopub.execute_input": "2025-10-08T14:33:23.942748Z",
     "iopub.status.busy": "2025-10-08T14:33:23.942394Z",
     "iopub.status.idle": "2025-10-08T14:33:23.950847Z",
     "shell.execute_reply": "2025-10-08T14:33:23.949537Z"
    },
    "papermill": {
     "duration": 0.023064,
     "end_time": "2025-10-08T14:33:23.952603",
     "exception": false,
     "start_time": "2025-10-08T14:33:23.929539",
     "status": "completed"
    },
    "tags": []
   },
   "outputs": [
    {
     "data": {
      "text/plain": [
       "array(['Banashankari', 'Bannerghatta Road', 'Basavanagudi', 'Bellandur',\n",
       "       'Brigade Road', 'Brookefield', 'BTM', 'Church Street',\n",
       "       'Electronic City', 'Frazer Town', 'HSR', 'Indiranagar',\n",
       "       'Jayanagar', 'JP Nagar', 'Kalyan Nagar', 'Kammanahalli',\n",
       "       'Koramangala 4th Block', 'Koramangala 5th Block',\n",
       "       'Koramangala 6th Block', 'Koramangala 7th Block', 'Lavelle Road',\n",
       "       'Malleshwaram', 'Marathahalli', 'MG Road', 'New BEL Road',\n",
       "       'Old Airport Road', 'Rajajinagar', 'Residency Road',\n",
       "       'Sarjapur Road', 'Whitefield'], dtype=object)"
      ]
     },
     "execution_count": 30,
     "metadata": {},
     "output_type": "execute_result"
    }
   ],
   "source": [
    "zmt.city.unique()"
   ]
  },
  {
   "cell_type": "markdown",
   "id": "30416808",
   "metadata": {
    "papermill": {
     "duration": 0.010594,
     "end_time": "2025-10-08T14:33:23.973500",
     "exception": false,
     "start_time": "2025-10-08T14:33:23.962906",
     "status": "completed"
    },
    "tags": []
   },
   "source": [
    "# Droping Duplicates"
   ]
  },
  {
   "cell_type": "code",
   "execution_count": 31,
   "id": "ec647d69",
   "metadata": {
    "execution": {
     "iopub.execute_input": "2025-10-08T14:33:23.995451Z",
     "iopub.status.busy": "2025-10-08T14:33:23.995125Z",
     "iopub.status.idle": "2025-10-08T14:33:24.033576Z",
     "shell.execute_reply": "2025-10-08T14:33:24.031824Z"
    },
    "papermill": {
     "duration": 0.052115,
     "end_time": "2025-10-08T14:33:24.035853",
     "exception": false,
     "start_time": "2025-10-08T14:33:23.983738",
     "status": "completed"
    },
    "tags": []
   },
   "outputs": [
    {
     "name": "stdout",
     "output_type": "stream",
     "text": [
      "False    43453\n",
      "True        80\n",
      "Name: count, dtype: int64\n"
     ]
    }
   ],
   "source": [
    "print(zmt.duplicated().value_counts())"
   ]
  },
  {
   "cell_type": "code",
   "execution_count": 32,
   "id": "0f870a00",
   "metadata": {
    "execution": {
     "iopub.execute_input": "2025-10-08T14:33:24.060379Z",
     "iopub.status.busy": "2025-10-08T14:33:24.059986Z",
     "iopub.status.idle": "2025-10-08T14:33:24.100340Z",
     "shell.execute_reply": "2025-10-08T14:33:24.098992Z"
    },
    "papermill": {
     "duration": 0.055036,
     "end_time": "2025-10-08T14:33:24.102243",
     "exception": false,
     "start_time": "2025-10-08T14:33:24.047207",
     "status": "completed"
    },
    "tags": []
   },
   "outputs": [],
   "source": [
    "zmt.drop_duplicates(keep='last',inplace=True)"
   ]
  },
  {
   "cell_type": "code",
   "execution_count": 33,
   "id": "71eef6de",
   "metadata": {
    "execution": {
     "iopub.execute_input": "2025-10-08T14:33:24.124110Z",
     "iopub.status.busy": "2025-10-08T14:33:24.123762Z",
     "iopub.status.idle": "2025-10-08T14:33:24.163719Z",
     "shell.execute_reply": "2025-10-08T14:33:24.162405Z"
    },
    "papermill": {
     "duration": 0.053095,
     "end_time": "2025-10-08T14:33:24.165542",
     "exception": false,
     "start_time": "2025-10-08T14:33:24.112447",
     "status": "completed"
    },
    "tags": []
   },
   "outputs": [
    {
     "name": "stdout",
     "output_type": "stream",
     "text": [
      "False    43453\n",
      "Name: count, dtype: int64\n"
     ]
    }
   ],
   "source": [
    "print(zmt.duplicated().value_counts())"
   ]
  },
  {
   "cell_type": "code",
   "execution_count": 34,
   "id": "b1e5c07e",
   "metadata": {
    "execution": {
     "iopub.execute_input": "2025-10-08T14:33:24.187164Z",
     "iopub.status.busy": "2025-10-08T14:33:24.186857Z",
     "iopub.status.idle": "2025-10-08T14:33:24.202496Z",
     "shell.execute_reply": "2025-10-08T14:33:24.201619Z"
    },
    "papermill": {
     "duration": 0.028059,
     "end_time": "2025-10-08T14:33:24.203948",
     "exception": false,
     "start_time": "2025-10-08T14:33:24.175889",
     "status": "completed"
    },
    "tags": []
   },
   "outputs": [
    {
     "data": {
      "text/html": [
       "<div>\n",
       "<style scoped>\n",
       "    .dataframe tbody tr th:only-of-type {\n",
       "        vertical-align: middle;\n",
       "    }\n",
       "\n",
       "    .dataframe tbody tr th {\n",
       "        vertical-align: top;\n",
       "    }\n",
       "\n",
       "    .dataframe thead th {\n",
       "        text-align: right;\n",
       "    }\n",
       "</style>\n",
       "<table border=\"1\" class=\"dataframe\">\n",
       "  <thead>\n",
       "    <tr style=\"text-align: right;\">\n",
       "      <th></th>\n",
       "      <th>restaurants</th>\n",
       "      <th>online_order</th>\n",
       "      <th>book_table</th>\n",
       "      <th>rating</th>\n",
       "      <th>votes</th>\n",
       "      <th>location</th>\n",
       "      <th>rest_type</th>\n",
       "      <th>food_type</th>\n",
       "      <th>cost</th>\n",
       "      <th>type</th>\n",
       "      <th>city</th>\n",
       "    </tr>\n",
       "  </thead>\n",
       "  <tbody>\n",
       "    <tr>\n",
       "      <th>0</th>\n",
       "      <td>Jalsa</td>\n",
       "      <td>Yes</td>\n",
       "      <td>Yes</td>\n",
       "      <td>4.1</td>\n",
       "      <td>775</td>\n",
       "      <td>Banashankari</td>\n",
       "      <td>Casual Dining</td>\n",
       "      <td>North Indian, Mughlai, Chinese</td>\n",
       "      <td>800</td>\n",
       "      <td>Buffet</td>\n",
       "      <td>Banashankari</td>\n",
       "    </tr>\n",
       "    <tr>\n",
       "      <th>1</th>\n",
       "      <td>Spice Elephant</td>\n",
       "      <td>Yes</td>\n",
       "      <td>No</td>\n",
       "      <td>4.1</td>\n",
       "      <td>787</td>\n",
       "      <td>Banashankari</td>\n",
       "      <td>Casual Dining</td>\n",
       "      <td>Chinese, North Indian, Thai</td>\n",
       "      <td>800</td>\n",
       "      <td>Buffet</td>\n",
       "      <td>Banashankari</td>\n",
       "    </tr>\n",
       "    <tr>\n",
       "      <th>2</th>\n",
       "      <td>San Churro Cafee</td>\n",
       "      <td>Yes</td>\n",
       "      <td>No</td>\n",
       "      <td>3.8</td>\n",
       "      <td>918</td>\n",
       "      <td>Banashankari</td>\n",
       "      <td>Cafe, Casual Dining</td>\n",
       "      <td>Cafe, Mexican, Italian</td>\n",
       "      <td>800</td>\n",
       "      <td>Buffet</td>\n",
       "      <td>Banashankari</td>\n",
       "    </tr>\n",
       "    <tr>\n",
       "      <th>3</th>\n",
       "      <td>Addhuri Udupi Bhojana</td>\n",
       "      <td>No</td>\n",
       "      <td>No</td>\n",
       "      <td>3.7</td>\n",
       "      <td>88</td>\n",
       "      <td>Banashankari</td>\n",
       "      <td>Quick Bites</td>\n",
       "      <td>South Indian, North Indian</td>\n",
       "      <td>300</td>\n",
       "      <td>Buffet</td>\n",
       "      <td>Banashankari</td>\n",
       "    </tr>\n",
       "    <tr>\n",
       "      <th>4</th>\n",
       "      <td>Grand Village</td>\n",
       "      <td>No</td>\n",
       "      <td>No</td>\n",
       "      <td>3.8</td>\n",
       "      <td>166</td>\n",
       "      <td>Basavanagudi</td>\n",
       "      <td>Casual Dining</td>\n",
       "      <td>North Indian, Rajasthani</td>\n",
       "      <td>600</td>\n",
       "      <td>Buffet</td>\n",
       "      <td>Banashankari</td>\n",
       "    </tr>\n",
       "    <tr>\n",
       "      <th>...</th>\n",
       "      <td>...</td>\n",
       "      <td>...</td>\n",
       "      <td>...</td>\n",
       "      <td>...</td>\n",
       "      <td>...</td>\n",
       "      <td>...</td>\n",
       "      <td>...</td>\n",
       "      <td>...</td>\n",
       "      <td>...</td>\n",
       "      <td>...</td>\n",
       "      <td>...</td>\n",
       "    </tr>\n",
       "    <tr>\n",
       "      <th>51709</th>\n",
       "      <td>The Farm House Bar n Grill</td>\n",
       "      <td>No</td>\n",
       "      <td>No</td>\n",
       "      <td>3.7</td>\n",
       "      <td>34</td>\n",
       "      <td>Whitefield</td>\n",
       "      <td>Casual Dining, Bar</td>\n",
       "      <td>North Indian, Continental</td>\n",
       "      <td>800</td>\n",
       "      <td>Pubs and bars</td>\n",
       "      <td>Whitefield</td>\n",
       "    </tr>\n",
       "    <tr>\n",
       "      <th>51711</th>\n",
       "      <td>Bhagini</td>\n",
       "      <td>No</td>\n",
       "      <td>No</td>\n",
       "      <td>2.5</td>\n",
       "      <td>81</td>\n",
       "      <td>Whitefield</td>\n",
       "      <td>Casual Dining, Bar</td>\n",
       "      <td>Andhra, South Indian, Chinese, North Indian</td>\n",
       "      <td>800</td>\n",
       "      <td>Pubs and bars</td>\n",
       "      <td>Whitefield</td>\n",
       "    </tr>\n",
       "    <tr>\n",
       "      <th>51712</th>\n",
       "      <td>Best Brews - Four Points by Sheraton Bengaluru...</td>\n",
       "      <td>No</td>\n",
       "      <td>No</td>\n",
       "      <td>3.6</td>\n",
       "      <td>27</td>\n",
       "      <td>Whitefield</td>\n",
       "      <td>Bar</td>\n",
       "      <td>Continental</td>\n",
       "      <td>1500</td>\n",
       "      <td>Pubs and bars</td>\n",
       "      <td>Whitefield</td>\n",
       "    </tr>\n",
       "    <tr>\n",
       "      <th>51715</th>\n",
       "      <td>Chime - Sheraton Grand Bengaluru Whitefield Ho...</td>\n",
       "      <td>No</td>\n",
       "      <td>Yes</td>\n",
       "      <td>4.3</td>\n",
       "      <td>236</td>\n",
       "      <td>ITPL Main Road, Whitefield</td>\n",
       "      <td>Bar</td>\n",
       "      <td>Finger Food</td>\n",
       "      <td>2500</td>\n",
       "      <td>Pubs and bars</td>\n",
       "      <td>Whitefield</td>\n",
       "    </tr>\n",
       "    <tr>\n",
       "      <th>51716</th>\n",
       "      <td>The Nest - The Den Bengaluru</td>\n",
       "      <td>No</td>\n",
       "      <td>No</td>\n",
       "      <td>3.4</td>\n",
       "      <td>13</td>\n",
       "      <td>ITPL Main Road, Whitefield</td>\n",
       "      <td>Bar, Casual Dining</td>\n",
       "      <td>Finger Food, North Indian, Continental</td>\n",
       "      <td>1500</td>\n",
       "      <td>Pubs and bars</td>\n",
       "      <td>Whitefield</td>\n",
       "    </tr>\n",
       "  </tbody>\n",
       "</table>\n",
       "<p>43453 rows × 11 columns</p>\n",
       "</div>"
      ],
      "text/plain": [
       "                                             restaurants online_order  \\\n",
       "0                                                  Jalsa          Yes   \n",
       "1                                         Spice Elephant          Yes   \n",
       "2                                       San Churro Cafee          Yes   \n",
       "3                                  Addhuri Udupi Bhojana           No   \n",
       "4                                          Grand Village           No   \n",
       "...                                                  ...          ...   \n",
       "51709                         The Farm House Bar n Grill           No   \n",
       "51711                                            Bhagini           No   \n",
       "51712  Best Brews - Four Points by Sheraton Bengaluru...           No   \n",
       "51715  Chime - Sheraton Grand Bengaluru Whitefield Ho...           No   \n",
       "51716                       The Nest - The Den Bengaluru           No   \n",
       "\n",
       "      book_table  rating  votes                    location  \\\n",
       "0            Yes     4.1    775                Banashankari   \n",
       "1             No     4.1    787                Banashankari   \n",
       "2             No     3.8    918                Banashankari   \n",
       "3             No     3.7     88                Banashankari   \n",
       "4             No     3.8    166                Basavanagudi   \n",
       "...          ...     ...    ...                         ...   \n",
       "51709         No     3.7     34                  Whitefield   \n",
       "51711         No     2.5     81                  Whitefield   \n",
       "51712         No     3.6     27                  Whitefield   \n",
       "51715        Yes     4.3    236  ITPL Main Road, Whitefield   \n",
       "51716         No     3.4     13  ITPL Main Road, Whitefield   \n",
       "\n",
       "                 rest_type                                    food_type  cost  \\\n",
       "0            Casual Dining               North Indian, Mughlai, Chinese   800   \n",
       "1            Casual Dining                  Chinese, North Indian, Thai   800   \n",
       "2      Cafe, Casual Dining                       Cafe, Mexican, Italian   800   \n",
       "3              Quick Bites                   South Indian, North Indian   300   \n",
       "4            Casual Dining                     North Indian, Rajasthani   600   \n",
       "...                    ...                                          ...   ...   \n",
       "51709   Casual Dining, Bar                    North Indian, Continental   800   \n",
       "51711   Casual Dining, Bar  Andhra, South Indian, Chinese, North Indian   800   \n",
       "51712                  Bar                                  Continental  1500   \n",
       "51715                  Bar                                  Finger Food  2500   \n",
       "51716   Bar, Casual Dining       Finger Food, North Indian, Continental  1500   \n",
       "\n",
       "                type          city  \n",
       "0             Buffet  Banashankari  \n",
       "1             Buffet  Banashankari  \n",
       "2             Buffet  Banashankari  \n",
       "3             Buffet  Banashankari  \n",
       "4             Buffet  Banashankari  \n",
       "...              ...           ...  \n",
       "51709  Pubs and bars    Whitefield  \n",
       "51711  Pubs and bars    Whitefield  \n",
       "51712  Pubs and bars    Whitefield  \n",
       "51715  Pubs and bars    Whitefield  \n",
       "51716  Pubs and bars    Whitefield  \n",
       "\n",
       "[43453 rows x 11 columns]"
      ]
     },
     "execution_count": 34,
     "metadata": {},
     "output_type": "execute_result"
    }
   ],
   "source": [
    "zmt"
   ]
  },
  {
   "cell_type": "code",
   "execution_count": 35,
   "id": "1d5f4fed",
   "metadata": {
    "execution": {
     "iopub.execute_input": "2025-10-08T14:33:24.226064Z",
     "iopub.status.busy": "2025-10-08T14:33:24.225735Z",
     "iopub.status.idle": "2025-10-08T14:33:24.255824Z",
     "shell.execute_reply": "2025-10-08T14:33:24.254291Z"
    },
    "papermill": {
     "duration": 0.043188,
     "end_time": "2025-10-08T14:33:24.257717",
     "exception": false,
     "start_time": "2025-10-08T14:33:24.214529",
     "status": "completed"
    },
    "tags": []
   },
   "outputs": [
    {
     "name": "stdout",
     "output_type": "stream",
     "text": [
      "<class 'pandas.core.frame.DataFrame'>\n",
      "Index: 43453 entries, 0 to 51716\n",
      "Data columns (total 11 columns):\n",
      " #   Column        Non-Null Count  Dtype  \n",
      "---  ------        --------------  -----  \n",
      " 0   restaurants   43453 non-null  object \n",
      " 1   online_order  43453 non-null  object \n",
      " 2   book_table    43453 non-null  object \n",
      " 3   rating        43453 non-null  float64\n",
      " 4   votes         43453 non-null  int64  \n",
      " 5   location      43453 non-null  object \n",
      " 6   rest_type     43453 non-null  object \n",
      " 7   food_type     43453 non-null  object \n",
      " 8   cost          43453 non-null  int64  \n",
      " 9   type          43453 non-null  object \n",
      " 10  city          43453 non-null  object \n",
      "dtypes: float64(1), int64(2), object(8)\n",
      "memory usage: 4.0+ MB\n"
     ]
    }
   ],
   "source": [
    "zmt.info()"
   ]
  },
  {
   "cell_type": "code",
   "execution_count": 36,
   "id": "ffbaec81",
   "metadata": {
    "execution": {
     "iopub.execute_input": "2025-10-08T14:33:24.280380Z",
     "iopub.status.busy": "2025-10-08T14:33:24.280072Z",
     "iopub.status.idle": "2025-10-08T14:33:24.570336Z",
     "shell.execute_reply": "2025-10-08T14:33:24.569369Z"
    },
    "papermill": {
     "duration": 0.303503,
     "end_time": "2025-10-08T14:33:24.572007",
     "exception": false,
     "start_time": "2025-10-08T14:33:24.268504",
     "status": "completed"
    },
    "tags": []
   },
   "outputs": [],
   "source": [
    "zmt.to_csv('./zomato_clean_data.csv')"
   ]
  },
  {
   "cell_type": "markdown",
   "id": "7f76b562",
   "metadata": {
    "papermill": {
     "duration": 0.011394,
     "end_time": "2025-10-08T14:33:24.594130",
     "exception": false,
     "start_time": "2025-10-08T14:33:24.582736",
     "status": "completed"
    },
    "tags": []
   },
   "source": [
    "# Data visulaization"
   ]
  },
  {
   "cell_type": "code",
   "execution_count": null,
   "id": "7a2b9086",
   "metadata": {
    "papermill": {
     "duration": 0.010693,
     "end_time": "2025-10-08T14:33:24.616439",
     "exception": false,
     "start_time": "2025-10-08T14:33:24.605746",
     "status": "completed"
    },
    "tags": []
   },
   "outputs": [],
   "source": []
  }
 ],
 "metadata": {
  "kaggle": {
   "accelerator": "none",
   "dataSources": [
    {
     "datasetId": 2826904,
     "sourceId": 4875434,
     "sourceType": "datasetVersion"
    }
   ],
   "dockerImageVersionId": 31089,
   "isGpuEnabled": false,
   "isInternetEnabled": false,
   "language": "python",
   "sourceType": "notebook"
  },
  "kernelspec": {
   "display_name": "Python 3",
   "language": "python",
   "name": "python3"
  },
  "language_info": {
   "codemirror_mode": {
    "name": "ipython",
    "version": 3
   },
   "file_extension": ".py",
   "mimetype": "text/x-python",
   "name": "python",
   "nbconvert_exporter": "python",
   "pygments_lexer": "ipython3",
   "version": "3.11.13"
  },
  "papermill": {
   "default_parameters": {},
   "duration": 27.128164,
   "end_time": "2025-10-08T14:33:25.350524",
   "environment_variables": {},
   "exception": null,
   "input_path": "__notebook__.ipynb",
   "output_path": "__notebook__.ipynb",
   "parameters": {},
   "start_time": "2025-10-08T14:32:58.222360",
   "version": "2.6.0"
  }
 },
 "nbformat": 4,
 "nbformat_minor": 5
}
